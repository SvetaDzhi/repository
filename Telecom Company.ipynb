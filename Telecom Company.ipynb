{
 "cells": [
  {
   "cell_type": "markdown",
   "metadata": {},
   "source": [
    "# Определение перспективного тарифа для телеком компании"
   ]
  },
  {
   "cell_type": "markdown",
   "metadata": {},
   "source": [
    "Я аналитик компании «Мегалайн» — федерального оператора сотовой связи. Клиентам предлагают два тарифных плана: «Смарт» и «Ультра». Чтобы скорректировать рекламный бюджет, коммерческий департамент хочет понять, какой тариф приносит больше денег.\n",
    "Моя задача провести предварительный анализ тарифов, имея данные 500 пользователей «Мегалайна»: кто они, откуда, каким тарифом пользуются, сколько звонков и сообщений каждый отправил за 2018 год. Нужно проанализировать поведение клиентов и сделать вывод — какой тариф лучше.\n",
    "\n",
    "### План исследования:\n",
    "\n",
    "[Шаг 1. Открытие файлов с данными и изучение общей информации;](#1)     \n",
    "\n",
    "[Шаг 2. Подготовка данных:](#2)     \n",
    "\n",
    "[а. Приведение данных к нужным типам;](#3)        \n",
    "[б. Поиск и исправление ошибок в данных;](#4)        \n",
    "[в. Подсчет для каждого пользователя:](#5)        \n",
    " \n",
    " - количества сделанных звонков и израсходованных минут разговора по месяцам;\n",
    " - количества отправленных сообщений по месяцам;\n",
    " - объем израсходованного интернет-трафика по месяцам;\n",
    " - помесячной выручки с каждого пользователя;\n",
    " \n",
    "[Шаг 3. Анализ данных:](#6)    \n",
    "[а. Описание поведения клиентов оператора, исходя из выборки;](#7)    \n",
    "[б. Расчет среднего количества, дисперсии и стандартного отклонения;](#8)     \n",
    "[в. Построение гистограмм;](#9)    \n",
    "[г. Описание распределений;](#10)    \n",
    "\n",
    "[Шаг 4. Проверка гипотез:](#11)    \n",
    "[а. Средняя выручка пользователей тарифов «Ультра» и «Смарт» различается;](#12)     \n",
    "[б. Средняя выручка пользователей из Москвы отличается от выручки пользователей из других регионов;](#13)     \n",
    "\n",
    "[Шаг 5. Общий вывод](#14)\n",
    " "
   ]
  },
  {
   "cell_type": "markdown",
   "metadata": {},
   "source": [
    "<a name=\"1\"></a>\n",
    "## Шаг 1. Открытие файлов с данными и изучение общей информации"
   ]
  },
  {
   "cell_type": "markdown",
   "metadata": {},
   "source": [
    "В моем распоряжении 5 таблиц в формате csv. Открою и изучу данные всех таблиц, предварительно вызвав необходимые мне в исследовании библиотеки."
   ]
  },
  {
   "cell_type": "code",
   "execution_count": 1,
   "metadata": {},
   "outputs": [
    {
     "data": {
      "text/html": [
       "<div>\n",
       "<style scoped>\n",
       "    .dataframe tbody tr th:only-of-type {\n",
       "        vertical-align: middle;\n",
       "    }\n",
       "\n",
       "    .dataframe tbody tr th {\n",
       "        vertical-align: top;\n",
       "    }\n",
       "\n",
       "    .dataframe thead th {\n",
       "        text-align: right;\n",
       "    }\n",
       "</style>\n",
       "<table border=\"1\" class=\"dataframe\">\n",
       "  <thead>\n",
       "    <tr style=\"text-align: right;\">\n",
       "      <th></th>\n",
       "      <th>id</th>\n",
       "      <th>call_date</th>\n",
       "      <th>duration</th>\n",
       "      <th>user_id</th>\n",
       "    </tr>\n",
       "  </thead>\n",
       "  <tbody>\n",
       "    <tr>\n",
       "      <td>0</td>\n",
       "      <td>1000_0</td>\n",
       "      <td>2018-07-25</td>\n",
       "      <td>0.00</td>\n",
       "      <td>1000</td>\n",
       "    </tr>\n",
       "    <tr>\n",
       "      <td>1</td>\n",
       "      <td>1000_1</td>\n",
       "      <td>2018-08-17</td>\n",
       "      <td>0.00</td>\n",
       "      <td>1000</td>\n",
       "    </tr>\n",
       "    <tr>\n",
       "      <td>2</td>\n",
       "      <td>1000_2</td>\n",
       "      <td>2018-06-11</td>\n",
       "      <td>2.85</td>\n",
       "      <td>1000</td>\n",
       "    </tr>\n",
       "    <tr>\n",
       "      <td>3</td>\n",
       "      <td>1000_3</td>\n",
       "      <td>2018-09-21</td>\n",
       "      <td>13.80</td>\n",
       "      <td>1000</td>\n",
       "    </tr>\n",
       "    <tr>\n",
       "      <td>4</td>\n",
       "      <td>1000_4</td>\n",
       "      <td>2018-12-15</td>\n",
       "      <td>5.18</td>\n",
       "      <td>1000</td>\n",
       "    </tr>\n",
       "    <tr>\n",
       "      <td>...</td>\n",
       "      <td>...</td>\n",
       "      <td>...</td>\n",
       "      <td>...</td>\n",
       "      <td>...</td>\n",
       "    </tr>\n",
       "    <tr>\n",
       "      <td>202602</td>\n",
       "      <td>1499_215</td>\n",
       "      <td>2018-12-26</td>\n",
       "      <td>0.76</td>\n",
       "      <td>1499</td>\n",
       "    </tr>\n",
       "    <tr>\n",
       "      <td>202603</td>\n",
       "      <td>1499_216</td>\n",
       "      <td>2018-10-18</td>\n",
       "      <td>18.83</td>\n",
       "      <td>1499</td>\n",
       "    </tr>\n",
       "    <tr>\n",
       "      <td>202604</td>\n",
       "      <td>1499_217</td>\n",
       "      <td>2018-11-10</td>\n",
       "      <td>10.81</td>\n",
       "      <td>1499</td>\n",
       "    </tr>\n",
       "    <tr>\n",
       "      <td>202605</td>\n",
       "      <td>1499_218</td>\n",
       "      <td>2018-10-06</td>\n",
       "      <td>4.27</td>\n",
       "      <td>1499</td>\n",
       "    </tr>\n",
       "    <tr>\n",
       "      <td>202606</td>\n",
       "      <td>1499_219</td>\n",
       "      <td>2018-12-14</td>\n",
       "      <td>19.62</td>\n",
       "      <td>1499</td>\n",
       "    </tr>\n",
       "  </tbody>\n",
       "</table>\n",
       "<p>202607 rows × 4 columns</p>\n",
       "</div>"
      ],
      "text/plain": [
       "              id   call_date  duration  user_id\n",
       "0         1000_0  2018-07-25      0.00     1000\n",
       "1         1000_1  2018-08-17      0.00     1000\n",
       "2         1000_2  2018-06-11      2.85     1000\n",
       "3         1000_3  2018-09-21     13.80     1000\n",
       "4         1000_4  2018-12-15      5.18     1000\n",
       "...          ...         ...       ...      ...\n",
       "202602  1499_215  2018-12-26      0.76     1499\n",
       "202603  1499_216  2018-10-18     18.83     1499\n",
       "202604  1499_217  2018-11-10     10.81     1499\n",
       "202605  1499_218  2018-10-06      4.27     1499\n",
       "202606  1499_219  2018-12-14     19.62     1499\n",
       "\n",
       "[202607 rows x 4 columns]"
      ]
     },
     "metadata": {},
     "output_type": "display_data"
    },
    {
     "data": {
      "text/html": [
       "<div>\n",
       "<style scoped>\n",
       "    .dataframe tbody tr th:only-of-type {\n",
       "        vertical-align: middle;\n",
       "    }\n",
       "\n",
       "    .dataframe tbody tr th {\n",
       "        vertical-align: top;\n",
       "    }\n",
       "\n",
       "    .dataframe thead th {\n",
       "        text-align: right;\n",
       "    }\n",
       "</style>\n",
       "<table border=\"1\" class=\"dataframe\">\n",
       "  <thead>\n",
       "    <tr style=\"text-align: right;\">\n",
       "      <th></th>\n",
       "      <th>Unnamed: 0</th>\n",
       "      <th>id</th>\n",
       "      <th>mb_used</th>\n",
       "      <th>session_date</th>\n",
       "      <th>user_id</th>\n",
       "    </tr>\n",
       "  </thead>\n",
       "  <tbody>\n",
       "    <tr>\n",
       "      <td>0</td>\n",
       "      <td>0</td>\n",
       "      <td>1000_0</td>\n",
       "      <td>112.95</td>\n",
       "      <td>2018-11-25</td>\n",
       "      <td>1000</td>\n",
       "    </tr>\n",
       "    <tr>\n",
       "      <td>1</td>\n",
       "      <td>1</td>\n",
       "      <td>1000_1</td>\n",
       "      <td>1052.81</td>\n",
       "      <td>2018-09-07</td>\n",
       "      <td>1000</td>\n",
       "    </tr>\n",
       "    <tr>\n",
       "      <td>2</td>\n",
       "      <td>2</td>\n",
       "      <td>1000_2</td>\n",
       "      <td>1197.26</td>\n",
       "      <td>2018-06-25</td>\n",
       "      <td>1000</td>\n",
       "    </tr>\n",
       "    <tr>\n",
       "      <td>3</td>\n",
       "      <td>3</td>\n",
       "      <td>1000_3</td>\n",
       "      <td>550.27</td>\n",
       "      <td>2018-08-22</td>\n",
       "      <td>1000</td>\n",
       "    </tr>\n",
       "    <tr>\n",
       "      <td>4</td>\n",
       "      <td>4</td>\n",
       "      <td>1000_4</td>\n",
       "      <td>302.56</td>\n",
       "      <td>2018-09-24</td>\n",
       "      <td>1000</td>\n",
       "    </tr>\n",
       "    <tr>\n",
       "      <td>...</td>\n",
       "      <td>...</td>\n",
       "      <td>...</td>\n",
       "      <td>...</td>\n",
       "      <td>...</td>\n",
       "      <td>...</td>\n",
       "    </tr>\n",
       "    <tr>\n",
       "      <td>149391</td>\n",
       "      <td>149391</td>\n",
       "      <td>1499_152</td>\n",
       "      <td>318.90</td>\n",
       "      <td>2018-10-03</td>\n",
       "      <td>1499</td>\n",
       "    </tr>\n",
       "    <tr>\n",
       "      <td>149392</td>\n",
       "      <td>149392</td>\n",
       "      <td>1499_153</td>\n",
       "      <td>490.13</td>\n",
       "      <td>2018-12-14</td>\n",
       "      <td>1499</td>\n",
       "    </tr>\n",
       "    <tr>\n",
       "      <td>149393</td>\n",
       "      <td>149393</td>\n",
       "      <td>1499_154</td>\n",
       "      <td>0.00</td>\n",
       "      <td>2018-10-27</td>\n",
       "      <td>1499</td>\n",
       "    </tr>\n",
       "    <tr>\n",
       "      <td>149394</td>\n",
       "      <td>149394</td>\n",
       "      <td>1499_155</td>\n",
       "      <td>1246.32</td>\n",
       "      <td>2018-11-26</td>\n",
       "      <td>1499</td>\n",
       "    </tr>\n",
       "    <tr>\n",
       "      <td>149395</td>\n",
       "      <td>149395</td>\n",
       "      <td>1499_156</td>\n",
       "      <td>544.37</td>\n",
       "      <td>2018-10-26</td>\n",
       "      <td>1499</td>\n",
       "    </tr>\n",
       "  </tbody>\n",
       "</table>\n",
       "<p>149396 rows × 5 columns</p>\n",
       "</div>"
      ],
      "text/plain": [
       "        Unnamed: 0        id  mb_used session_date  user_id\n",
       "0                0    1000_0   112.95   2018-11-25     1000\n",
       "1                1    1000_1  1052.81   2018-09-07     1000\n",
       "2                2    1000_2  1197.26   2018-06-25     1000\n",
       "3                3    1000_3   550.27   2018-08-22     1000\n",
       "4                4    1000_4   302.56   2018-09-24     1000\n",
       "...            ...       ...      ...          ...      ...\n",
       "149391      149391  1499_152   318.90   2018-10-03     1499\n",
       "149392      149392  1499_153   490.13   2018-12-14     1499\n",
       "149393      149393  1499_154     0.00   2018-10-27     1499\n",
       "149394      149394  1499_155  1246.32   2018-11-26     1499\n",
       "149395      149395  1499_156   544.37   2018-10-26     1499\n",
       "\n",
       "[149396 rows x 5 columns]"
      ]
     },
     "metadata": {},
     "output_type": "display_data"
    },
    {
     "data": {
      "text/html": [
       "<div>\n",
       "<style scoped>\n",
       "    .dataframe tbody tr th:only-of-type {\n",
       "        vertical-align: middle;\n",
       "    }\n",
       "\n",
       "    .dataframe tbody tr th {\n",
       "        vertical-align: top;\n",
       "    }\n",
       "\n",
       "    .dataframe thead th {\n",
       "        text-align: right;\n",
       "    }\n",
       "</style>\n",
       "<table border=\"1\" class=\"dataframe\">\n",
       "  <thead>\n",
       "    <tr style=\"text-align: right;\">\n",
       "      <th></th>\n",
       "      <th>id</th>\n",
       "      <th>message_date</th>\n",
       "      <th>user_id</th>\n",
       "    </tr>\n",
       "  </thead>\n",
       "  <tbody>\n",
       "    <tr>\n",
       "      <td>0</td>\n",
       "      <td>1000_0</td>\n",
       "      <td>2018-06-27</td>\n",
       "      <td>1000</td>\n",
       "    </tr>\n",
       "    <tr>\n",
       "      <td>1</td>\n",
       "      <td>1000_1</td>\n",
       "      <td>2018-10-08</td>\n",
       "      <td>1000</td>\n",
       "    </tr>\n",
       "    <tr>\n",
       "      <td>2</td>\n",
       "      <td>1000_2</td>\n",
       "      <td>2018-08-04</td>\n",
       "      <td>1000</td>\n",
       "    </tr>\n",
       "    <tr>\n",
       "      <td>3</td>\n",
       "      <td>1000_3</td>\n",
       "      <td>2018-06-16</td>\n",
       "      <td>1000</td>\n",
       "    </tr>\n",
       "    <tr>\n",
       "      <td>4</td>\n",
       "      <td>1000_4</td>\n",
       "      <td>2018-12-05</td>\n",
       "      <td>1000</td>\n",
       "    </tr>\n",
       "    <tr>\n",
       "      <td>...</td>\n",
       "      <td>...</td>\n",
       "      <td>...</td>\n",
       "      <td>...</td>\n",
       "    </tr>\n",
       "    <tr>\n",
       "      <td>123031</td>\n",
       "      <td>1499_179</td>\n",
       "      <td>2018-12-12</td>\n",
       "      <td>1499</td>\n",
       "    </tr>\n",
       "    <tr>\n",
       "      <td>123032</td>\n",
       "      <td>1499_180</td>\n",
       "      <td>2018-09-28</td>\n",
       "      <td>1499</td>\n",
       "    </tr>\n",
       "    <tr>\n",
       "      <td>123033</td>\n",
       "      <td>1499_181</td>\n",
       "      <td>2018-09-27</td>\n",
       "      <td>1499</td>\n",
       "    </tr>\n",
       "    <tr>\n",
       "      <td>123034</td>\n",
       "      <td>1499_182</td>\n",
       "      <td>2018-11-15</td>\n",
       "      <td>1499</td>\n",
       "    </tr>\n",
       "    <tr>\n",
       "      <td>123035</td>\n",
       "      <td>1499_183</td>\n",
       "      <td>2018-11-16</td>\n",
       "      <td>1499</td>\n",
       "    </tr>\n",
       "  </tbody>\n",
       "</table>\n",
       "<p>123036 rows × 3 columns</p>\n",
       "</div>"
      ],
      "text/plain": [
       "              id message_date  user_id\n",
       "0         1000_0   2018-06-27     1000\n",
       "1         1000_1   2018-10-08     1000\n",
       "2         1000_2   2018-08-04     1000\n",
       "3         1000_3   2018-06-16     1000\n",
       "4         1000_4   2018-12-05     1000\n",
       "...          ...          ...      ...\n",
       "123031  1499_179   2018-12-12     1499\n",
       "123032  1499_180   2018-09-28     1499\n",
       "123033  1499_181   2018-09-27     1499\n",
       "123034  1499_182   2018-11-15     1499\n",
       "123035  1499_183   2018-11-16     1499\n",
       "\n",
       "[123036 rows x 3 columns]"
      ]
     },
     "metadata": {},
     "output_type": "display_data"
    },
    {
     "data": {
      "text/html": [
       "<div>\n",
       "<style scoped>\n",
       "    .dataframe tbody tr th:only-of-type {\n",
       "        vertical-align: middle;\n",
       "    }\n",
       "\n",
       "    .dataframe tbody tr th {\n",
       "        vertical-align: top;\n",
       "    }\n",
       "\n",
       "    .dataframe thead th {\n",
       "        text-align: right;\n",
       "    }\n",
       "</style>\n",
       "<table border=\"1\" class=\"dataframe\">\n",
       "  <thead>\n",
       "    <tr style=\"text-align: right;\">\n",
       "      <th></th>\n",
       "      <th>messages_included</th>\n",
       "      <th>mb_per_month_included</th>\n",
       "      <th>minutes_included</th>\n",
       "      <th>rub_monthly_fee</th>\n",
       "      <th>rub_per_gb</th>\n",
       "      <th>rub_per_message</th>\n",
       "      <th>rub_per_minute</th>\n",
       "      <th>tariff_name</th>\n",
       "    </tr>\n",
       "  </thead>\n",
       "  <tbody>\n",
       "    <tr>\n",
       "      <td>0</td>\n",
       "      <td>50</td>\n",
       "      <td>15360</td>\n",
       "      <td>500</td>\n",
       "      <td>550</td>\n",
       "      <td>200</td>\n",
       "      <td>3</td>\n",
       "      <td>3</td>\n",
       "      <td>smart</td>\n",
       "    </tr>\n",
       "    <tr>\n",
       "      <td>1</td>\n",
       "      <td>1000</td>\n",
       "      <td>30720</td>\n",
       "      <td>3000</td>\n",
       "      <td>1950</td>\n",
       "      <td>150</td>\n",
       "      <td>1</td>\n",
       "      <td>1</td>\n",
       "      <td>ultra</td>\n",
       "    </tr>\n",
       "  </tbody>\n",
       "</table>\n",
       "</div>"
      ],
      "text/plain": [
       "   messages_included  mb_per_month_included  minutes_included  \\\n",
       "0                 50                  15360               500   \n",
       "1               1000                  30720              3000   \n",
       "\n",
       "   rub_monthly_fee  rub_per_gb  rub_per_message  rub_per_minute tariff_name  \n",
       "0              550         200                3               3       smart  \n",
       "1             1950         150                1               1       ultra  "
      ]
     },
     "metadata": {},
     "output_type": "display_data"
    },
    {
     "data": {
      "text/html": [
       "<div>\n",
       "<style scoped>\n",
       "    .dataframe tbody tr th:only-of-type {\n",
       "        vertical-align: middle;\n",
       "    }\n",
       "\n",
       "    .dataframe tbody tr th {\n",
       "        vertical-align: top;\n",
       "    }\n",
       "\n",
       "    .dataframe thead th {\n",
       "        text-align: right;\n",
       "    }\n",
       "</style>\n",
       "<table border=\"1\" class=\"dataframe\">\n",
       "  <thead>\n",
       "    <tr style=\"text-align: right;\">\n",
       "      <th></th>\n",
       "      <th>user_id</th>\n",
       "      <th>age</th>\n",
       "      <th>churn_date</th>\n",
       "      <th>city</th>\n",
       "      <th>first_name</th>\n",
       "      <th>last_name</th>\n",
       "      <th>reg_date</th>\n",
       "      <th>tariff</th>\n",
       "    </tr>\n",
       "  </thead>\n",
       "  <tbody>\n",
       "    <tr>\n",
       "      <td>0</td>\n",
       "      <td>1000</td>\n",
       "      <td>52</td>\n",
       "      <td>NaN</td>\n",
       "      <td>Краснодар</td>\n",
       "      <td>Рафаил</td>\n",
       "      <td>Верещагин</td>\n",
       "      <td>2018-05-25</td>\n",
       "      <td>ultra</td>\n",
       "    </tr>\n",
       "    <tr>\n",
       "      <td>1</td>\n",
       "      <td>1001</td>\n",
       "      <td>41</td>\n",
       "      <td>NaN</td>\n",
       "      <td>Москва</td>\n",
       "      <td>Иван</td>\n",
       "      <td>Ежов</td>\n",
       "      <td>2018-11-01</td>\n",
       "      <td>smart</td>\n",
       "    </tr>\n",
       "    <tr>\n",
       "      <td>2</td>\n",
       "      <td>1002</td>\n",
       "      <td>59</td>\n",
       "      <td>NaN</td>\n",
       "      <td>Стерлитамак</td>\n",
       "      <td>Евгений</td>\n",
       "      <td>Абрамович</td>\n",
       "      <td>2018-06-17</td>\n",
       "      <td>smart</td>\n",
       "    </tr>\n",
       "    <tr>\n",
       "      <td>3</td>\n",
       "      <td>1003</td>\n",
       "      <td>23</td>\n",
       "      <td>NaN</td>\n",
       "      <td>Москва</td>\n",
       "      <td>Белла</td>\n",
       "      <td>Белякова</td>\n",
       "      <td>2018-08-17</td>\n",
       "      <td>ultra</td>\n",
       "    </tr>\n",
       "    <tr>\n",
       "      <td>4</td>\n",
       "      <td>1004</td>\n",
       "      <td>68</td>\n",
       "      <td>NaN</td>\n",
       "      <td>Новокузнецк</td>\n",
       "      <td>Татьяна</td>\n",
       "      <td>Авдеенко</td>\n",
       "      <td>2018-05-14</td>\n",
       "      <td>ultra</td>\n",
       "    </tr>\n",
       "    <tr>\n",
       "      <td>...</td>\n",
       "      <td>...</td>\n",
       "      <td>...</td>\n",
       "      <td>...</td>\n",
       "      <td>...</td>\n",
       "      <td>...</td>\n",
       "      <td>...</td>\n",
       "      <td>...</td>\n",
       "      <td>...</td>\n",
       "    </tr>\n",
       "    <tr>\n",
       "      <td>495</td>\n",
       "      <td>1495</td>\n",
       "      <td>65</td>\n",
       "      <td>NaN</td>\n",
       "      <td>Иркутск</td>\n",
       "      <td>Авксентий</td>\n",
       "      <td>Фокин</td>\n",
       "      <td>2018-08-28</td>\n",
       "      <td>ultra</td>\n",
       "    </tr>\n",
       "    <tr>\n",
       "      <td>496</td>\n",
       "      <td>1496</td>\n",
       "      <td>36</td>\n",
       "      <td>NaN</td>\n",
       "      <td>Вологда</td>\n",
       "      <td>Трифон</td>\n",
       "      <td>Блохин</td>\n",
       "      <td>2018-01-27</td>\n",
       "      <td>smart</td>\n",
       "    </tr>\n",
       "    <tr>\n",
       "      <td>497</td>\n",
       "      <td>1497</td>\n",
       "      <td>32</td>\n",
       "      <td>NaN</td>\n",
       "      <td>Челябинск</td>\n",
       "      <td>Каролина</td>\n",
       "      <td>Агеева</td>\n",
       "      <td>2018-10-09</td>\n",
       "      <td>smart</td>\n",
       "    </tr>\n",
       "    <tr>\n",
       "      <td>498</td>\n",
       "      <td>1498</td>\n",
       "      <td>68</td>\n",
       "      <td>2018-10-25</td>\n",
       "      <td>Владикавказ</td>\n",
       "      <td>Всеволод</td>\n",
       "      <td>Акимчин</td>\n",
       "      <td>2018-07-19</td>\n",
       "      <td>smart</td>\n",
       "    </tr>\n",
       "    <tr>\n",
       "      <td>499</td>\n",
       "      <td>1499</td>\n",
       "      <td>35</td>\n",
       "      <td>NaN</td>\n",
       "      <td>Пермь</td>\n",
       "      <td>Гектор</td>\n",
       "      <td>Корнилов</td>\n",
       "      <td>2018-09-27</td>\n",
       "      <td>smart</td>\n",
       "    </tr>\n",
       "  </tbody>\n",
       "</table>\n",
       "<p>500 rows × 8 columns</p>\n",
       "</div>"
      ],
      "text/plain": [
       "     user_id  age  churn_date         city first_name  last_name    reg_date  \\\n",
       "0       1000   52         NaN    Краснодар     Рафаил  Верещагин  2018-05-25   \n",
       "1       1001   41         NaN       Москва       Иван       Ежов  2018-11-01   \n",
       "2       1002   59         NaN  Стерлитамак    Евгений  Абрамович  2018-06-17   \n",
       "3       1003   23         NaN       Москва      Белла   Белякова  2018-08-17   \n",
       "4       1004   68         NaN  Новокузнецк    Татьяна   Авдеенко  2018-05-14   \n",
       "..       ...  ...         ...          ...        ...        ...         ...   \n",
       "495     1495   65         NaN      Иркутск  Авксентий      Фокин  2018-08-28   \n",
       "496     1496   36         NaN      Вологда     Трифон     Блохин  2018-01-27   \n",
       "497     1497   32         NaN    Челябинск   Каролина     Агеева  2018-10-09   \n",
       "498     1498   68  2018-10-25  Владикавказ   Всеволод    Акимчин  2018-07-19   \n",
       "499     1499   35         NaN        Пермь     Гектор   Корнилов  2018-09-27   \n",
       "\n",
       "    tariff  \n",
       "0    ultra  \n",
       "1    smart  \n",
       "2    smart  \n",
       "3    ultra  \n",
       "4    ultra  \n",
       "..     ...  \n",
       "495  ultra  \n",
       "496  smart  \n",
       "497  smart  \n",
       "498  smart  \n",
       "499  smart  \n",
       "\n",
       "[500 rows x 8 columns]"
      ]
     },
     "metadata": {},
     "output_type": "display_data"
    }
   ],
   "source": [
    "import pandas as pd\n",
    "import seaborn as sns\n",
    "import matplotlib.pyplot as plt\n",
    "from scipy import stats as st\n",
    "import numpy as np\n",
    "pd.set_option('mode.chained_assignment', None)\n",
    "df_calls = pd.read_csv('/datasets/calls.csv')\n",
    "df_internet = pd.read_csv('/datasets/internet.csv')\n",
    "df_messages = pd.read_csv('/datasets/messages.csv')\n",
    "df_tariffs = pd.read_csv('/datasets/tariffs.csv')\n",
    "df_users = pd.read_csv('/datasets/users.csv')\n",
    "\n",
    "from IPython.display import HTML\n",
    "#Методом display() выведу все 5 таблиц:\n",
    "display(df_calls)\n",
    "display(df_internet)\n",
    "display(df_messages)\n",
    "display(df_tariffs)\n",
    "display(df_users)"
   ]
  },
  {
   "cell_type": "markdown",
   "metadata": {},
   "source": [
    "Создам функцию для проверки первичных данных таблиц и проверю данные с помощью метода info()"
   ]
  },
  {
   "cell_type": "code",
   "execution_count": 2,
   "metadata": {},
   "outputs": [
    {
     "name": "stdout",
     "output_type": "stream",
     "text": [
      "Звонки\n",
      "<class 'pandas.core.frame.DataFrame'>\n",
      "RangeIndex: 202607 entries, 0 to 202606\n",
      "Data columns (total 4 columns):\n",
      "id           202607 non-null object\n",
      "call_date    202607 non-null object\n",
      "duration     202607 non-null float64\n",
      "user_id      202607 non-null int64\n",
      "dtypes: float64(1), int64(1), object(2)\n",
      "memory usage: 6.2+ MB\n"
     ]
    },
    {
     "data": {
      "text/plain": [
       "None"
      ]
     },
     "metadata": {},
     "output_type": "display_data"
    },
    {
     "name": "stdout",
     "output_type": "stream",
     "text": [
      "Интернет\n",
      "<class 'pandas.core.frame.DataFrame'>\n",
      "RangeIndex: 149396 entries, 0 to 149395\n",
      "Data columns (total 5 columns):\n",
      "Unnamed: 0      149396 non-null int64\n",
      "id              149396 non-null object\n",
      "mb_used         149396 non-null float64\n",
      "session_date    149396 non-null object\n",
      "user_id         149396 non-null int64\n",
      "dtypes: float64(1), int64(2), object(2)\n",
      "memory usage: 5.7+ MB\n"
     ]
    },
    {
     "data": {
      "text/plain": [
       "None"
      ]
     },
     "metadata": {},
     "output_type": "display_data"
    },
    {
     "name": "stdout",
     "output_type": "stream",
     "text": [
      "Сообщения\n",
      "<class 'pandas.core.frame.DataFrame'>\n",
      "RangeIndex: 123036 entries, 0 to 123035\n",
      "Data columns (total 3 columns):\n",
      "id              123036 non-null object\n",
      "message_date    123036 non-null object\n",
      "user_id         123036 non-null int64\n",
      "dtypes: int64(1), object(2)\n",
      "memory usage: 2.8+ MB\n"
     ]
    },
    {
     "data": {
      "text/plain": [
       "None"
      ]
     },
     "metadata": {},
     "output_type": "display_data"
    },
    {
     "name": "stdout",
     "output_type": "stream",
     "text": [
      "Тарифы\n",
      "<class 'pandas.core.frame.DataFrame'>\n",
      "RangeIndex: 2 entries, 0 to 1\n",
      "Data columns (total 8 columns):\n",
      "messages_included        2 non-null int64\n",
      "mb_per_month_included    2 non-null int64\n",
      "minutes_included         2 non-null int64\n",
      "rub_monthly_fee          2 non-null int64\n",
      "rub_per_gb               2 non-null int64\n",
      "rub_per_message          2 non-null int64\n",
      "rub_per_minute           2 non-null int64\n",
      "tariff_name              2 non-null object\n",
      "dtypes: int64(7), object(1)\n",
      "memory usage: 256.0+ bytes\n"
     ]
    },
    {
     "data": {
      "text/plain": [
       "None"
      ]
     },
     "metadata": {},
     "output_type": "display_data"
    },
    {
     "name": "stdout",
     "output_type": "stream",
     "text": [
      "Пользователи\n",
      "<class 'pandas.core.frame.DataFrame'>\n",
      "RangeIndex: 500 entries, 0 to 499\n",
      "Data columns (total 8 columns):\n",
      "user_id       500 non-null int64\n",
      "age           500 non-null int64\n",
      "churn_date    38 non-null object\n",
      "city          500 non-null object\n",
      "first_name    500 non-null object\n",
      "last_name     500 non-null object\n",
      "reg_date      500 non-null object\n",
      "tariff        500 non-null object\n",
      "dtypes: int64(2), object(6)\n",
      "memory usage: 31.4+ KB\n"
     ]
    },
    {
     "data": {
      "text/plain": [
       "None"
      ]
     },
     "metadata": {},
     "output_type": "display_data"
    }
   ],
   "source": [
    "from IPython.display import display\n",
    "def simple_func(df_calls, df_internet, df_messages, df_tariffs, df_users):\n",
    "    \n",
    "    print('Звонки')\n",
    "    display(df_calls.info())\n",
    "    \n",
    "    print('Интернет')\n",
    "    display(df_internet.info())\n",
    "    \n",
    "    print('Сообщения')\n",
    "    display(df_messages.info())\n",
    "    \n",
    "    print('Тарифы')\n",
    "    display(df_tariffs.info())\n",
    "    \n",
    "    print('Пользователи')\n",
    "    display(df_users.info())\n",
    "    \n",
    "simple_func(\n",
    "    df_calls,\n",
    "    df_internet,\n",
    "    df_messages,\n",
    "    df_tariffs,\n",
    "    df_users    \n",
    ")"
   ]
  },
  {
   "cell_type": "markdown",
   "metadata": {},
   "source": [
    "<a name=\"2\"></a>\n",
    "## Шаг 2. Подготовка данных:"
   ]
  },
  {
   "cell_type": "markdown",
   "metadata": {},
   "source": [
    "Проверю данные таблиц на пропущенные значения с помощью методов isnull() и sum(), предварительно создав функцию:"
   ]
  },
  {
   "cell_type": "code",
   "execution_count": 3,
   "metadata": {},
   "outputs": [
    {
     "name": "stdout",
     "output_type": "stream",
     "text": [
      "Звонки\n"
     ]
    },
    {
     "data": {
      "text/plain": [
       "id           0\n",
       "call_date    0\n",
       "duration     0\n",
       "user_id      0\n",
       "dtype: int64"
      ]
     },
     "metadata": {},
     "output_type": "display_data"
    },
    {
     "name": "stdout",
     "output_type": "stream",
     "text": [
      "Интернет\n"
     ]
    },
    {
     "data": {
      "text/plain": [
       "Unnamed: 0      0\n",
       "id              0\n",
       "mb_used         0\n",
       "session_date    0\n",
       "user_id         0\n",
       "dtype: int64"
      ]
     },
     "metadata": {},
     "output_type": "display_data"
    },
    {
     "name": "stdout",
     "output_type": "stream",
     "text": [
      "Сообщения\n"
     ]
    },
    {
     "data": {
      "text/plain": [
       "id              0\n",
       "message_date    0\n",
       "user_id         0\n",
       "dtype: int64"
      ]
     },
     "metadata": {},
     "output_type": "display_data"
    },
    {
     "name": "stdout",
     "output_type": "stream",
     "text": [
      "Тарифы\n"
     ]
    },
    {
     "data": {
      "text/plain": [
       "messages_included        0\n",
       "mb_per_month_included    0\n",
       "minutes_included         0\n",
       "rub_monthly_fee          0\n",
       "rub_per_gb               0\n",
       "rub_per_message          0\n",
       "rub_per_minute           0\n",
       "tariff_name              0\n",
       "dtype: int64"
      ]
     },
     "metadata": {},
     "output_type": "display_data"
    },
    {
     "name": "stdout",
     "output_type": "stream",
     "text": [
      "Пользователи\n"
     ]
    },
    {
     "data": {
      "text/plain": [
       "user_id         0\n",
       "age             0\n",
       "churn_date    462\n",
       "city            0\n",
       "first_name      0\n",
       "last_name       0\n",
       "reg_date        0\n",
       "tariff          0\n",
       "dtype: int64"
      ]
     },
     "metadata": {},
     "output_type": "display_data"
    }
   ],
   "source": [
    "def simple_func_1(df_calls, df_internet, df_messages, df_tariffs, df_users):\n",
    "    \n",
    "    print('Звонки')\n",
    "    display(df_calls.isnull().sum())\n",
    "    \n",
    "    print('Интернет')\n",
    "    display(df_internet.isnull().sum())\n",
    "    \n",
    "    print('Сообщения')\n",
    "    display(df_messages.isnull().sum())\n",
    "    \n",
    "    print('Тарифы')\n",
    "    display(df_tariffs.isnull().sum())\n",
    "    \n",
    "    print('Пользователи')\n",
    "    display(df_users.isnull().sum())\n",
    "    \n",
    "simple_func_1(\n",
    "    df_calls,\n",
    "    df_internet,\n",
    "    df_messages,\n",
    "    df_tariffs,\n",
    "    df_users    \n",
    ")"
   ]
  },
  {
   "cell_type": "markdown",
   "metadata": {},
   "source": [
    "В столбце churn_date (дата прекращения пользования тарифом) таблицы df_users обнаружила пропуски, так как по условию, если значение пропущено, то тариф ещё действовал на момент выгрузки данных. Эти пропуски нет смысла заполнять."
   ]
  },
  {
   "cell_type": "code",
   "execution_count": 4,
   "metadata": {},
   "outputs": [
    {
     "name": "stdout",
     "output_type": "stream",
     "text": [
      "Звонки\n"
     ]
    },
    {
     "data": {
      "text/plain": [
       "0"
      ]
     },
     "metadata": {},
     "output_type": "display_data"
    },
    {
     "name": "stdout",
     "output_type": "stream",
     "text": [
      "Интернет\n"
     ]
    },
    {
     "data": {
      "text/plain": [
       "0"
      ]
     },
     "metadata": {},
     "output_type": "display_data"
    },
    {
     "name": "stdout",
     "output_type": "stream",
     "text": [
      "Сообщения\n"
     ]
    },
    {
     "data": {
      "text/plain": [
       "0"
      ]
     },
     "metadata": {},
     "output_type": "display_data"
    },
    {
     "name": "stdout",
     "output_type": "stream",
     "text": [
      "Тарифы\n"
     ]
    },
    {
     "data": {
      "text/plain": [
       "0"
      ]
     },
     "metadata": {},
     "output_type": "display_data"
    },
    {
     "name": "stdout",
     "output_type": "stream",
     "text": [
      "Пользователи\n"
     ]
    },
    {
     "data": {
      "text/plain": [
       "0"
      ]
     },
     "metadata": {},
     "output_type": "display_data"
    }
   ],
   "source": [
    "#Проверю таблицы на наличие дубликатов методами duplicated() и sum(), предварительно создав функцию:\n",
    "def simple_func_2(df_calls, df_internet, df_messages, df_tariffs, df_users):\n",
    "    \n",
    "    print('Звонки')\n",
    "    display(df_calls.duplicated().sum())\n",
    "    \n",
    "    print('Интернет')\n",
    "    display(df_internet.duplicated().sum())\n",
    "    \n",
    "    print('Сообщения')\n",
    "    display(df_messages.duplicated().sum())\n",
    "    \n",
    "    print('Тарифы')\n",
    "    display(df_tariffs.duplicated().sum())\n",
    "    \n",
    "    print('Пользователи')\n",
    "    display(df_users.duplicated().sum())\n",
    "    \n",
    "simple_func_2(\n",
    "    df_calls,\n",
    "    df_internet,\n",
    "    df_messages,\n",
    "    df_tariffs,\n",
    "    df_users    \n",
    ")"
   ]
  },
  {
   "cell_type": "markdown",
   "metadata": {},
   "source": [
    "<a name=\"3\"></a>\n",
    "### Замена типа данных"
   ]
  },
  {
   "cell_type": "code",
   "execution_count": 5,
   "metadata": {},
   "outputs": [
    {
     "name": "stdout",
     "output_type": "stream",
     "text": [
      "<class 'pandas.core.frame.DataFrame'>\n",
      "RangeIndex: 202607 entries, 0 to 202606\n",
      "Data columns (total 4 columns):\n",
      "id           202607 non-null object\n",
      "call_date    202607 non-null datetime64[ns]\n",
      "duration     202607 non-null float64\n",
      "user_id      202607 non-null int64\n",
      "dtypes: datetime64[ns](1), float64(1), int64(1), object(1)\n",
      "memory usage: 6.2+ MB\n"
     ]
    }
   ],
   "source": [
    "#Методом to_datetime изменю типы данных на datetime64 в столбцах всех таблиц, где это необходимо:\n",
    "df_calls['call_date'] = pd.to_datetime(df_calls['call_date'], format = '%Y-%m-%d')\n",
    "#Методом info() проверю типы данных в столбцах:\n",
    "df_calls.info()"
   ]
  },
  {
   "cell_type": "code",
   "execution_count": 6,
   "metadata": {},
   "outputs": [
    {
     "name": "stdout",
     "output_type": "stream",
     "text": [
      "<class 'pandas.core.frame.DataFrame'>\n",
      "RangeIndex: 149396 entries, 0 to 149395\n",
      "Data columns (total 5 columns):\n",
      "Unnamed: 0      149396 non-null int64\n",
      "id              149396 non-null object\n",
      "mb_used         149396 non-null float64\n",
      "session_date    149396 non-null datetime64[ns]\n",
      "user_id         149396 non-null int64\n",
      "dtypes: datetime64[ns](1), float64(1), int64(2), object(1)\n",
      "memory usage: 5.7+ MB\n"
     ]
    }
   ],
   "source": [
    "df_internet['session_date'] = pd.to_datetime(df_internet['session_date'], format = '%Y-%m-%d')\n",
    "df_internet.info()"
   ]
  },
  {
   "cell_type": "code",
   "execution_count": 7,
   "metadata": {},
   "outputs": [
    {
     "name": "stdout",
     "output_type": "stream",
     "text": [
      "<class 'pandas.core.frame.DataFrame'>\n",
      "RangeIndex: 123036 entries, 0 to 123035\n",
      "Data columns (total 3 columns):\n",
      "id              123036 non-null object\n",
      "message_date    123036 non-null datetime64[ns]\n",
      "user_id         123036 non-null int64\n",
      "dtypes: datetime64[ns](1), int64(1), object(1)\n",
      "memory usage: 2.8+ MB\n"
     ]
    }
   ],
   "source": [
    "df_messages['message_date'] = pd.to_datetime(df_messages['message_date'], format = '%Y-%m-%d')\n",
    "df_messages.info()"
   ]
  },
  {
   "cell_type": "code",
   "execution_count": 8,
   "metadata": {},
   "outputs": [
    {
     "name": "stdout",
     "output_type": "stream",
     "text": [
      "<class 'pandas.core.frame.DataFrame'>\n",
      "RangeIndex: 500 entries, 0 to 499\n",
      "Data columns (total 8 columns):\n",
      "user_id       500 non-null int64\n",
      "age           500 non-null int64\n",
      "churn_date    38 non-null datetime64[ns]\n",
      "city          500 non-null object\n",
      "first_name    500 non-null object\n",
      "last_name     500 non-null object\n",
      "reg_date      500 non-null datetime64[ns]\n",
      "tariff        500 non-null object\n",
      "dtypes: datetime64[ns](2), int64(2), object(4)\n",
      "memory usage: 31.4+ KB\n"
     ]
    }
   ],
   "source": [
    "df_users['churn_date'] = pd.to_datetime(df_users['churn_date'], format = '%Y-%m-%d')\n",
    "df_users['reg_date'] = pd.to_datetime(df_users['reg_date'], format = '%Y-%m-%d')\n",
    "df_users.info()"
   ]
  },
  {
   "cell_type": "markdown",
   "metadata": {},
   "source": [
    "Поменяла тип данных на datetime64 в столбцах 'call_date' таблицы df_calls,'session_date' таблицы df_internet,'message_date' таблицы df_messages, 'churn_date' и 'reg_date' таблицы df_users , чтобы далее иметь работать с датами, а не строками."
   ]
  },
  {
   "cell_type": "markdown",
   "metadata": {},
   "source": [
    "<a name=\"4\"></a>\n",
    "### Поиск ошибок"
   ]
  },
  {
   "cell_type": "markdown",
   "metadata": {},
   "source": [
    "В таблице df_calls я обнаружила, что длительность многих звонков — 0.0 минут. Это скорее всего неотвеченные звонки.\n",
    "А в таблице df_internet нашла значения 0.0 в столбце mb_used - объём потраченного за сессию интернет-трафика (в мегабайтах). Вполне возможно, эти сессии были слишком короткими, поэтому объем трафика был слишком мал, чтобы засчитаться, хотя есть вероятность, что пользователь вообще не пользовался Интернетом.\n",
    "Я считаю неуместным обрабатывать нулевые значения как в первом, так и во втором случае. Далее я скорее всего отсортирую нулевые значения, потому что они неважны для моего анализа."
   ]
  },
  {
   "cell_type": "code",
   "execution_count": 9,
   "metadata": {},
   "outputs": [],
   "source": [
    "#В задании сказано, что «Мегалайн» всегда округляет вверх значения минут и мегабайтов, поэтому округлю значения \n",
    "#в столбце duration таблицы df_calls и столбце mb_used таблицы df_internet до большего целого значения, \n",
    "#вызвав библиотеку numpy и применив метод apply(np.ceil):\n",
    "import numpy as np\n",
    "df_calls['duration'] = df_calls['duration'].apply(np.ceil)\n",
    "df_internet['mb_used'] = df_internet['mb_used'].apply(np.ceil)"
   ]
  },
  {
   "cell_type": "markdown",
   "metadata": {},
   "source": [
    "<a name=\"5\"></a>\n",
    "### Расчет количества сделанных звонков по месяцам"
   ]
  },
  {
   "cell_type": "code",
   "execution_count": 10,
   "metadata": {
    "scrolled": true
   },
   "outputs": [
    {
     "data": {
      "text/html": [
       "<div>\n",
       "<style scoped>\n",
       "    .dataframe tbody tr th:only-of-type {\n",
       "        vertical-align: middle;\n",
       "    }\n",
       "\n",
       "    .dataframe tbody tr th {\n",
       "        vertical-align: top;\n",
       "    }\n",
       "\n",
       "    .dataframe thead th {\n",
       "        text-align: right;\n",
       "    }\n",
       "</style>\n",
       "<table border=\"1\" class=\"dataframe\">\n",
       "  <thead>\n",
       "    <tr style=\"text-align: right;\">\n",
       "      <th></th>\n",
       "      <th>id</th>\n",
       "      <th>call_date</th>\n",
       "      <th>duration</th>\n",
       "      <th>user_id</th>\n",
       "      <th>month</th>\n",
       "    </tr>\n",
       "  </thead>\n",
       "  <tbody>\n",
       "    <tr>\n",
       "      <td>0</td>\n",
       "      <td>1000_0</td>\n",
       "      <td>2018-07-25</td>\n",
       "      <td>0.0</td>\n",
       "      <td>1000</td>\n",
       "      <td>7</td>\n",
       "    </tr>\n",
       "    <tr>\n",
       "      <td>1</td>\n",
       "      <td>1000_1</td>\n",
       "      <td>2018-08-17</td>\n",
       "      <td>0.0</td>\n",
       "      <td>1000</td>\n",
       "      <td>8</td>\n",
       "    </tr>\n",
       "    <tr>\n",
       "      <td>2</td>\n",
       "      <td>1000_2</td>\n",
       "      <td>2018-06-11</td>\n",
       "      <td>3.0</td>\n",
       "      <td>1000</td>\n",
       "      <td>6</td>\n",
       "    </tr>\n",
       "    <tr>\n",
       "      <td>3</td>\n",
       "      <td>1000_3</td>\n",
       "      <td>2018-09-21</td>\n",
       "      <td>14.0</td>\n",
       "      <td>1000</td>\n",
       "      <td>9</td>\n",
       "    </tr>\n",
       "    <tr>\n",
       "      <td>4</td>\n",
       "      <td>1000_4</td>\n",
       "      <td>2018-12-15</td>\n",
       "      <td>6.0</td>\n",
       "      <td>1000</td>\n",
       "      <td>12</td>\n",
       "    </tr>\n",
       "    <tr>\n",
       "      <td>...</td>\n",
       "      <td>...</td>\n",
       "      <td>...</td>\n",
       "      <td>...</td>\n",
       "      <td>...</td>\n",
       "      <td>...</td>\n",
       "    </tr>\n",
       "    <tr>\n",
       "      <td>202602</td>\n",
       "      <td>1499_215</td>\n",
       "      <td>2018-12-26</td>\n",
       "      <td>1.0</td>\n",
       "      <td>1499</td>\n",
       "      <td>12</td>\n",
       "    </tr>\n",
       "    <tr>\n",
       "      <td>202603</td>\n",
       "      <td>1499_216</td>\n",
       "      <td>2018-10-18</td>\n",
       "      <td>19.0</td>\n",
       "      <td>1499</td>\n",
       "      <td>10</td>\n",
       "    </tr>\n",
       "    <tr>\n",
       "      <td>202604</td>\n",
       "      <td>1499_217</td>\n",
       "      <td>2018-11-10</td>\n",
       "      <td>11.0</td>\n",
       "      <td>1499</td>\n",
       "      <td>11</td>\n",
       "    </tr>\n",
       "    <tr>\n",
       "      <td>202605</td>\n",
       "      <td>1499_218</td>\n",
       "      <td>2018-10-06</td>\n",
       "      <td>5.0</td>\n",
       "      <td>1499</td>\n",
       "      <td>10</td>\n",
       "    </tr>\n",
       "    <tr>\n",
       "      <td>202606</td>\n",
       "      <td>1499_219</td>\n",
       "      <td>2018-12-14</td>\n",
       "      <td>20.0</td>\n",
       "      <td>1499</td>\n",
       "      <td>12</td>\n",
       "    </tr>\n",
       "  </tbody>\n",
       "</table>\n",
       "<p>202607 rows × 5 columns</p>\n",
       "</div>"
      ],
      "text/plain": [
       "              id  call_date  duration  user_id  month\n",
       "0         1000_0 2018-07-25       0.0     1000      7\n",
       "1         1000_1 2018-08-17       0.0     1000      8\n",
       "2         1000_2 2018-06-11       3.0     1000      6\n",
       "3         1000_3 2018-09-21      14.0     1000      9\n",
       "4         1000_4 2018-12-15       6.0     1000     12\n",
       "...          ...        ...       ...      ...    ...\n",
       "202602  1499_215 2018-12-26       1.0     1499     12\n",
       "202603  1499_216 2018-10-18      19.0     1499     10\n",
       "202604  1499_217 2018-11-10      11.0     1499     11\n",
       "202605  1499_218 2018-10-06       5.0     1499     10\n",
       "202606  1499_219 2018-12-14      20.0     1499     12\n",
       "\n",
       "[202607 rows x 5 columns]"
      ]
     },
     "metadata": {},
     "output_type": "display_data"
    }
   ],
   "source": [
    "#Создам в таблице df_calls столбец month, в котором будет указан номер месяца, в который был совершен звонок:\n",
    "df_calls['month'] = df_calls['call_date'].dt.month\n",
    "display(df_calls)"
   ]
  },
  {
   "cell_type": "code",
   "execution_count": 11,
   "metadata": {},
   "outputs": [
    {
     "data": {
      "text/html": [
       "<div>\n",
       "<style scoped>\n",
       "    .dataframe tbody tr th:only-of-type {\n",
       "        vertical-align: middle;\n",
       "    }\n",
       "\n",
       "    .dataframe tbody tr th {\n",
       "        vertical-align: top;\n",
       "    }\n",
       "\n",
       "    .dataframe thead th {\n",
       "        text-align: right;\n",
       "    }\n",
       "</style>\n",
       "<table border=\"1\" class=\"dataframe\">\n",
       "  <thead>\n",
       "    <tr style=\"text-align: right;\">\n",
       "      <th></th>\n",
       "      <th></th>\n",
       "      <th>calls_count</th>\n",
       "    </tr>\n",
       "    <tr>\n",
       "      <th>user_id</th>\n",
       "      <th>month</th>\n",
       "      <th></th>\n",
       "    </tr>\n",
       "  </thead>\n",
       "  <tbody>\n",
       "    <tr>\n",
       "      <td rowspan=\"5\" valign=\"top\">1000</td>\n",
       "      <td>5</td>\n",
       "      <td>22</td>\n",
       "    </tr>\n",
       "    <tr>\n",
       "      <td>6</td>\n",
       "      <td>43</td>\n",
       "    </tr>\n",
       "    <tr>\n",
       "      <td>7</td>\n",
       "      <td>47</td>\n",
       "    </tr>\n",
       "    <tr>\n",
       "      <td>8</td>\n",
       "      <td>52</td>\n",
       "    </tr>\n",
       "    <tr>\n",
       "      <td>9</td>\n",
       "      <td>58</td>\n",
       "    </tr>\n",
       "    <tr>\n",
       "      <td>...</td>\n",
       "      <td>...</td>\n",
       "      <td>...</td>\n",
       "    </tr>\n",
       "    <tr>\n",
       "      <td>1498</td>\n",
       "      <td>10</td>\n",
       "      <td>41</td>\n",
       "    </tr>\n",
       "    <tr>\n",
       "      <td rowspan=\"4\" valign=\"top\">1499</td>\n",
       "      <td>9</td>\n",
       "      <td>9</td>\n",
       "    </tr>\n",
       "    <tr>\n",
       "      <td>10</td>\n",
       "      <td>68</td>\n",
       "    </tr>\n",
       "    <tr>\n",
       "      <td>11</td>\n",
       "      <td>74</td>\n",
       "    </tr>\n",
       "    <tr>\n",
       "      <td>12</td>\n",
       "      <td>69</td>\n",
       "    </tr>\n",
       "  </tbody>\n",
       "</table>\n",
       "<p>3174 rows × 1 columns</p>\n",
       "</div>"
      ],
      "text/plain": [
       "               calls_count\n",
       "user_id month             \n",
       "1000    5               22\n",
       "        6               43\n",
       "        7               47\n",
       "        8               52\n",
       "        9               58\n",
       "...                    ...\n",
       "1498    10              41\n",
       "1499    9                9\n",
       "        10              68\n",
       "        11              74\n",
       "        12              69\n",
       "\n",
       "[3174 rows x 1 columns]"
      ]
     },
     "metadata": {},
     "output_type": "display_data"
    }
   ],
   "source": [
    "#Создам сводную таблицу df_calls_count, применив метод pivot_table() к таблице df_calls, сгруппировав ее по столбцам \n",
    "#'user_id' и 'month':\n",
    "df_calls_count = df_calls.pivot_table(index = ['user_id', 'month'], values ='id', aggfunc = 'count')\n",
    "#Переименую столбец id методом rename():\n",
    "df_calls_count.rename(columns = {'id': 'calls_count'}, inplace = True)\n",
    "display(df_calls_count)"
   ]
  },
  {
   "cell_type": "markdown",
   "metadata": {},
   "source": [
    "### Расчет количества израсходованных минут разговора по месяцам"
   ]
  },
  {
   "cell_type": "code",
   "execution_count": 12,
   "metadata": {},
   "outputs": [
    {
     "data": {
      "text/html": [
       "<div>\n",
       "<style scoped>\n",
       "    .dataframe tbody tr th:only-of-type {\n",
       "        vertical-align: middle;\n",
       "    }\n",
       "\n",
       "    .dataframe tbody tr th {\n",
       "        vertical-align: top;\n",
       "    }\n",
       "\n",
       "    .dataframe thead th {\n",
       "        text-align: right;\n",
       "    }\n",
       "</style>\n",
       "<table border=\"1\" class=\"dataframe\">\n",
       "  <thead>\n",
       "    <tr style=\"text-align: right;\">\n",
       "      <th></th>\n",
       "      <th></th>\n",
       "      <th>calls_duration</th>\n",
       "    </tr>\n",
       "    <tr>\n",
       "      <th>user_id</th>\n",
       "      <th>month</th>\n",
       "      <th></th>\n",
       "    </tr>\n",
       "  </thead>\n",
       "  <tbody>\n",
       "    <tr>\n",
       "      <td rowspan=\"5\" valign=\"top\">1000</td>\n",
       "      <td>5</td>\n",
       "      <td>159.0</td>\n",
       "    </tr>\n",
       "    <tr>\n",
       "      <td>6</td>\n",
       "      <td>172.0</td>\n",
       "    </tr>\n",
       "    <tr>\n",
       "      <td>7</td>\n",
       "      <td>340.0</td>\n",
       "    </tr>\n",
       "    <tr>\n",
       "      <td>8</td>\n",
       "      <td>408.0</td>\n",
       "    </tr>\n",
       "    <tr>\n",
       "      <td>9</td>\n",
       "      <td>466.0</td>\n",
       "    </tr>\n",
       "    <tr>\n",
       "      <td>...</td>\n",
       "      <td>...</td>\n",
       "      <td>...</td>\n",
       "    </tr>\n",
       "    <tr>\n",
       "      <td>1498</td>\n",
       "      <td>10</td>\n",
       "      <td>247.0</td>\n",
       "    </tr>\n",
       "    <tr>\n",
       "      <td rowspan=\"4\" valign=\"top\">1499</td>\n",
       "      <td>9</td>\n",
       "      <td>70.0</td>\n",
       "    </tr>\n",
       "    <tr>\n",
       "      <td>10</td>\n",
       "      <td>449.0</td>\n",
       "    </tr>\n",
       "    <tr>\n",
       "      <td>11</td>\n",
       "      <td>612.0</td>\n",
       "    </tr>\n",
       "    <tr>\n",
       "      <td>12</td>\n",
       "      <td>492.0</td>\n",
       "    </tr>\n",
       "  </tbody>\n",
       "</table>\n",
       "<p>3174 rows × 1 columns</p>\n",
       "</div>"
      ],
      "text/plain": [
       "               calls_duration\n",
       "user_id month                \n",
       "1000    5               159.0\n",
       "        6               172.0\n",
       "        7               340.0\n",
       "        8               408.0\n",
       "        9               466.0\n",
       "...                       ...\n",
       "1498    10              247.0\n",
       "1499    9                70.0\n",
       "        10              449.0\n",
       "        11              612.0\n",
       "        12              492.0\n",
       "\n",
       "[3174 rows x 1 columns]"
      ]
     },
     "metadata": {},
     "output_type": "display_data"
    }
   ],
   "source": [
    "#Создам сводную таблицу df_calls_duration, применив метод pivot_table() к таблице df_calls, сгруппировав ее по столбцам \n",
    "#'user_id' и 'month':\n",
    "df_calls_duration = df_calls.pivot_table(index = ['user_id', 'month'], values = 'duration', aggfunc = 'sum')\n",
    "#Переименую столбец duration методом rename():\n",
    "df_calls_duration.rename(columns = {'duration': 'calls_duration'}, inplace = True)\n",
    "display(df_calls_duration)"
   ]
  },
  {
   "cell_type": "markdown",
   "metadata": {},
   "source": [
    "### Расчет количества отправленных сообщений по месяцам"
   ]
  },
  {
   "cell_type": "code",
   "execution_count": 13,
   "metadata": {},
   "outputs": [
    {
     "data": {
      "text/html": [
       "<div>\n",
       "<style scoped>\n",
       "    .dataframe tbody tr th:only-of-type {\n",
       "        vertical-align: middle;\n",
       "    }\n",
       "\n",
       "    .dataframe tbody tr th {\n",
       "        vertical-align: top;\n",
       "    }\n",
       "\n",
       "    .dataframe thead th {\n",
       "        text-align: right;\n",
       "    }\n",
       "</style>\n",
       "<table border=\"1\" class=\"dataframe\">\n",
       "  <thead>\n",
       "    <tr style=\"text-align: right;\">\n",
       "      <th></th>\n",
       "      <th></th>\n",
       "      <th>messages_count</th>\n",
       "    </tr>\n",
       "    <tr>\n",
       "      <th>user_id</th>\n",
       "      <th>month</th>\n",
       "      <th></th>\n",
       "    </tr>\n",
       "  </thead>\n",
       "  <tbody>\n",
       "    <tr>\n",
       "      <td rowspan=\"5\" valign=\"top\">1000</td>\n",
       "      <td>5</td>\n",
       "      <td>22</td>\n",
       "    </tr>\n",
       "    <tr>\n",
       "      <td>6</td>\n",
       "      <td>60</td>\n",
       "    </tr>\n",
       "    <tr>\n",
       "      <td>7</td>\n",
       "      <td>75</td>\n",
       "    </tr>\n",
       "    <tr>\n",
       "      <td>8</td>\n",
       "      <td>81</td>\n",
       "    </tr>\n",
       "    <tr>\n",
       "      <td>9</td>\n",
       "      <td>57</td>\n",
       "    </tr>\n",
       "    <tr>\n",
       "      <td>...</td>\n",
       "      <td>...</td>\n",
       "      <td>...</td>\n",
       "    </tr>\n",
       "    <tr>\n",
       "      <td>1498</td>\n",
       "      <td>10</td>\n",
       "      <td>42</td>\n",
       "    </tr>\n",
       "    <tr>\n",
       "      <td rowspan=\"4\" valign=\"top\">1499</td>\n",
       "      <td>9</td>\n",
       "      <td>11</td>\n",
       "    </tr>\n",
       "    <tr>\n",
       "      <td>10</td>\n",
       "      <td>48</td>\n",
       "    </tr>\n",
       "    <tr>\n",
       "      <td>11</td>\n",
       "      <td>59</td>\n",
       "    </tr>\n",
       "    <tr>\n",
       "      <td>12</td>\n",
       "      <td>66</td>\n",
       "    </tr>\n",
       "  </tbody>\n",
       "</table>\n",
       "<p>2717 rows × 1 columns</p>\n",
       "</div>"
      ],
      "text/plain": [
       "               messages_count\n",
       "user_id month                \n",
       "1000    5                  22\n",
       "        6                  60\n",
       "        7                  75\n",
       "        8                  81\n",
       "        9                  57\n",
       "...                       ...\n",
       "1498    10                 42\n",
       "1499    9                  11\n",
       "        10                 48\n",
       "        11                 59\n",
       "        12                 66\n",
       "\n",
       "[2717 rows x 1 columns]"
      ]
     },
     "metadata": {},
     "output_type": "display_data"
    }
   ],
   "source": [
    "#Создам в таблице df_messages столбец month, в котором будет указан номер месяца, в который было отправлено сообщение:\n",
    "df_messages['month'] = df_messages['message_date'].dt.month\n",
    "\n",
    "#Создам сводную таблицу df_messages_count, применив метод pivot_table() к таблице df_messages, сгруппировав ее по столбцам \n",
    "#'user_id' и 'month':\n",
    "df_messages_count = df_messages.pivot_table(index = ['user_id', 'month'], values = 'id', aggfunc = 'count')\n",
    "\n",
    "#Переименую столбец id методом rename():\n",
    "df_messages_count.rename(columns = {'id': 'messages_count'}, inplace = True)\n",
    "display(df_messages_count)"
   ]
  },
  {
   "cell_type": "markdown",
   "metadata": {},
   "source": [
    "### Расчет объема израсходованного интернет-трафика по месяцам"
   ]
  },
  {
   "cell_type": "code",
   "execution_count": 14,
   "metadata": {},
   "outputs": [
    {
     "data": {
      "text/html": [
       "<div>\n",
       "<style scoped>\n",
       "    .dataframe tbody tr th:only-of-type {\n",
       "        vertical-align: middle;\n",
       "    }\n",
       "\n",
       "    .dataframe tbody tr th {\n",
       "        vertical-align: top;\n",
       "    }\n",
       "\n",
       "    .dataframe thead th {\n",
       "        text-align: right;\n",
       "    }\n",
       "</style>\n",
       "<table border=\"1\" class=\"dataframe\">\n",
       "  <thead>\n",
       "    <tr style=\"text-align: right;\">\n",
       "      <th></th>\n",
       "      <th></th>\n",
       "      <th>mb_used</th>\n",
       "    </tr>\n",
       "    <tr>\n",
       "      <th>user_id</th>\n",
       "      <th>month</th>\n",
       "      <th></th>\n",
       "    </tr>\n",
       "  </thead>\n",
       "  <tbody>\n",
       "    <tr>\n",
       "      <td rowspan=\"5\" valign=\"top\">1000</td>\n",
       "      <td>5</td>\n",
       "      <td>2256.0</td>\n",
       "    </tr>\n",
       "    <tr>\n",
       "      <td>6</td>\n",
       "      <td>23257.0</td>\n",
       "    </tr>\n",
       "    <tr>\n",
       "      <td>7</td>\n",
       "      <td>14016.0</td>\n",
       "    </tr>\n",
       "    <tr>\n",
       "      <td>8</td>\n",
       "      <td>14070.0</td>\n",
       "    </tr>\n",
       "    <tr>\n",
       "      <td>9</td>\n",
       "      <td>14581.0</td>\n",
       "    </tr>\n",
       "    <tr>\n",
       "      <td>...</td>\n",
       "      <td>...</td>\n",
       "      <td>...</td>\n",
       "    </tr>\n",
       "    <tr>\n",
       "      <td>1498</td>\n",
       "      <td>10</td>\n",
       "      <td>20604.0</td>\n",
       "    </tr>\n",
       "    <tr>\n",
       "      <td rowspan=\"4\" valign=\"top\">1499</td>\n",
       "      <td>9</td>\n",
       "      <td>1848.0</td>\n",
       "    </tr>\n",
       "    <tr>\n",
       "      <td>10</td>\n",
       "      <td>17809.0</td>\n",
       "    </tr>\n",
       "    <tr>\n",
       "      <td>11</td>\n",
       "      <td>17984.0</td>\n",
       "    </tr>\n",
       "    <tr>\n",
       "      <td>12</td>\n",
       "      <td>13077.0</td>\n",
       "    </tr>\n",
       "  </tbody>\n",
       "</table>\n",
       "<p>3203 rows × 1 columns</p>\n",
       "</div>"
      ],
      "text/plain": [
       "               mb_used\n",
       "user_id month         \n",
       "1000    5       2256.0\n",
       "        6      23257.0\n",
       "        7      14016.0\n",
       "        8      14070.0\n",
       "        9      14581.0\n",
       "...                ...\n",
       "1498    10     20604.0\n",
       "1499    9       1848.0\n",
       "        10     17809.0\n",
       "        11     17984.0\n",
       "        12     13077.0\n",
       "\n",
       "[3203 rows x 1 columns]"
      ]
     },
     "metadata": {},
     "output_type": "display_data"
    }
   ],
   "source": [
    "#Создам в таблице df_internet столбец month, в котором будет указан номер месяца, в который пользователь использовал мегабайты:\n",
    "df_internet['month'] = df_internet['session_date'].dt.month\n",
    "#Создам сводную таблицу df_internet_used, применив метод pivot_table() к таблице df_internet, сгруппировав ее по столбцам \n",
    "#'user_id' и 'month':\n",
    "df_internet_used = df_internet.pivot_table(index = ['user_id', 'month'], values = 'mb_used', aggfunc = 'sum')\n",
    "display(df_internet_used)"
   ]
  },
  {
   "cell_type": "markdown",
   "metadata": {},
   "source": [
    "### Расчет помесячной выручки с каждого пользователя "
   ]
  },
  {
   "cell_type": "code",
   "execution_count": 15,
   "metadata": {},
   "outputs": [
    {
     "data": {
      "text/html": [
       "<div>\n",
       "<style scoped>\n",
       "    .dataframe tbody tr th:only-of-type {\n",
       "        vertical-align: middle;\n",
       "    }\n",
       "\n",
       "    .dataframe tbody tr th {\n",
       "        vertical-align: top;\n",
       "    }\n",
       "\n",
       "    .dataframe thead th {\n",
       "        text-align: right;\n",
       "    }\n",
       "</style>\n",
       "<table border=\"1\" class=\"dataframe\">\n",
       "  <thead>\n",
       "    <tr style=\"text-align: right;\">\n",
       "      <th></th>\n",
       "      <th>user_id</th>\n",
       "      <th>month</th>\n",
       "      <th>calls_duration</th>\n",
       "      <th>messages_count</th>\n",
       "      <th>mb_used</th>\n",
       "      <th>age</th>\n",
       "      <th>churn_date</th>\n",
       "      <th>city</th>\n",
       "      <th>first_name</th>\n",
       "      <th>last_name</th>\n",
       "      <th>reg_date</th>\n",
       "      <th>tariff_name</th>\n",
       "      <th>messages_included</th>\n",
       "      <th>mb_per_month_included</th>\n",
       "      <th>minutes_included</th>\n",
       "      <th>rub_monthly_fee</th>\n",
       "      <th>rub_per_gb</th>\n",
       "      <th>rub_per_message</th>\n",
       "      <th>rub_per_minute</th>\n",
       "      <th>month_revenue</th>\n",
       "    </tr>\n",
       "  </thead>\n",
       "  <tbody>\n",
       "    <tr>\n",
       "      <td>0</td>\n",
       "      <td>1000</td>\n",
       "      <td>5</td>\n",
       "      <td>159.0</td>\n",
       "      <td>22.0</td>\n",
       "      <td>2256.0</td>\n",
       "      <td>52</td>\n",
       "      <td>0</td>\n",
       "      <td>Краснодар</td>\n",
       "      <td>Рафаил</td>\n",
       "      <td>Верещагин</td>\n",
       "      <td>2018-05-25</td>\n",
       "      <td>ultra</td>\n",
       "      <td>1000</td>\n",
       "      <td>30720</td>\n",
       "      <td>3000</td>\n",
       "      <td>1950</td>\n",
       "      <td>150</td>\n",
       "      <td>1</td>\n",
       "      <td>1</td>\n",
       "      <td>1950.0</td>\n",
       "    </tr>\n",
       "    <tr>\n",
       "      <td>1</td>\n",
       "      <td>1000</td>\n",
       "      <td>6</td>\n",
       "      <td>172.0</td>\n",
       "      <td>60.0</td>\n",
       "      <td>23257.0</td>\n",
       "      <td>52</td>\n",
       "      <td>0</td>\n",
       "      <td>Краснодар</td>\n",
       "      <td>Рафаил</td>\n",
       "      <td>Верещагин</td>\n",
       "      <td>2018-05-25</td>\n",
       "      <td>ultra</td>\n",
       "      <td>1000</td>\n",
       "      <td>30720</td>\n",
       "      <td>3000</td>\n",
       "      <td>1950</td>\n",
       "      <td>150</td>\n",
       "      <td>1</td>\n",
       "      <td>1</td>\n",
       "      <td>1950.0</td>\n",
       "    </tr>\n",
       "    <tr>\n",
       "      <td>2</td>\n",
       "      <td>1000</td>\n",
       "      <td>7</td>\n",
       "      <td>340.0</td>\n",
       "      <td>75.0</td>\n",
       "      <td>14016.0</td>\n",
       "      <td>52</td>\n",
       "      <td>0</td>\n",
       "      <td>Краснодар</td>\n",
       "      <td>Рафаил</td>\n",
       "      <td>Верещагин</td>\n",
       "      <td>2018-05-25</td>\n",
       "      <td>ultra</td>\n",
       "      <td>1000</td>\n",
       "      <td>30720</td>\n",
       "      <td>3000</td>\n",
       "      <td>1950</td>\n",
       "      <td>150</td>\n",
       "      <td>1</td>\n",
       "      <td>1</td>\n",
       "      <td>1950.0</td>\n",
       "    </tr>\n",
       "    <tr>\n",
       "      <td>3</td>\n",
       "      <td>1000</td>\n",
       "      <td>8</td>\n",
       "      <td>408.0</td>\n",
       "      <td>81.0</td>\n",
       "      <td>14070.0</td>\n",
       "      <td>52</td>\n",
       "      <td>0</td>\n",
       "      <td>Краснодар</td>\n",
       "      <td>Рафаил</td>\n",
       "      <td>Верещагин</td>\n",
       "      <td>2018-05-25</td>\n",
       "      <td>ultra</td>\n",
       "      <td>1000</td>\n",
       "      <td>30720</td>\n",
       "      <td>3000</td>\n",
       "      <td>1950</td>\n",
       "      <td>150</td>\n",
       "      <td>1</td>\n",
       "      <td>1</td>\n",
       "      <td>1950.0</td>\n",
       "    </tr>\n",
       "    <tr>\n",
       "      <td>4</td>\n",
       "      <td>1000</td>\n",
       "      <td>9</td>\n",
       "      <td>466.0</td>\n",
       "      <td>57.0</td>\n",
       "      <td>14581.0</td>\n",
       "      <td>52</td>\n",
       "      <td>0</td>\n",
       "      <td>Краснодар</td>\n",
       "      <td>Рафаил</td>\n",
       "      <td>Верещагин</td>\n",
       "      <td>2018-05-25</td>\n",
       "      <td>ultra</td>\n",
       "      <td>1000</td>\n",
       "      <td>30720</td>\n",
       "      <td>3000</td>\n",
       "      <td>1950</td>\n",
       "      <td>150</td>\n",
       "      <td>1</td>\n",
       "      <td>1</td>\n",
       "      <td>1950.0</td>\n",
       "    </tr>\n",
       "    <tr>\n",
       "      <td>...</td>\n",
       "      <td>...</td>\n",
       "      <td>...</td>\n",
       "      <td>...</td>\n",
       "      <td>...</td>\n",
       "      <td>...</td>\n",
       "      <td>...</td>\n",
       "      <td>...</td>\n",
       "      <td>...</td>\n",
       "      <td>...</td>\n",
       "      <td>...</td>\n",
       "      <td>...</td>\n",
       "      <td>...</td>\n",
       "      <td>...</td>\n",
       "      <td>...</td>\n",
       "      <td>...</td>\n",
       "      <td>...</td>\n",
       "      <td>...</td>\n",
       "      <td>...</td>\n",
       "      <td>...</td>\n",
       "      <td>...</td>\n",
       "    </tr>\n",
       "    <tr>\n",
       "      <td>3209</td>\n",
       "      <td>1489</td>\n",
       "      <td>9</td>\n",
       "      <td>0.0</td>\n",
       "      <td>32.0</td>\n",
       "      <td>17232.0</td>\n",
       "      <td>35</td>\n",
       "      <td>0</td>\n",
       "      <td>Санкт-Петербург</td>\n",
       "      <td>Павел</td>\n",
       "      <td>Гончаров</td>\n",
       "      <td>2018-08-15</td>\n",
       "      <td>smart</td>\n",
       "      <td>50</td>\n",
       "      <td>15360</td>\n",
       "      <td>500</td>\n",
       "      <td>550</td>\n",
       "      <td>200</td>\n",
       "      <td>3</td>\n",
       "      <td>3</td>\n",
       "      <td>916.0</td>\n",
       "    </tr>\n",
       "    <tr>\n",
       "      <td>3210</td>\n",
       "      <td>1489</td>\n",
       "      <td>10</td>\n",
       "      <td>0.0</td>\n",
       "      <td>21.0</td>\n",
       "      <td>19588.0</td>\n",
       "      <td>35</td>\n",
       "      <td>0</td>\n",
       "      <td>Санкт-Петербург</td>\n",
       "      <td>Павел</td>\n",
       "      <td>Гончаров</td>\n",
       "      <td>2018-08-15</td>\n",
       "      <td>smart</td>\n",
       "      <td>50</td>\n",
       "      <td>15360</td>\n",
       "      <td>500</td>\n",
       "      <td>550</td>\n",
       "      <td>200</td>\n",
       "      <td>3</td>\n",
       "      <td>3</td>\n",
       "      <td>1376.0</td>\n",
       "    </tr>\n",
       "    <tr>\n",
       "      <td>3211</td>\n",
       "      <td>1489</td>\n",
       "      <td>11</td>\n",
       "      <td>0.0</td>\n",
       "      <td>20.0</td>\n",
       "      <td>17516.0</td>\n",
       "      <td>35</td>\n",
       "      <td>0</td>\n",
       "      <td>Санкт-Петербург</td>\n",
       "      <td>Павел</td>\n",
       "      <td>Гончаров</td>\n",
       "      <td>2018-08-15</td>\n",
       "      <td>smart</td>\n",
       "      <td>50</td>\n",
       "      <td>15360</td>\n",
       "      <td>500</td>\n",
       "      <td>550</td>\n",
       "      <td>200</td>\n",
       "      <td>3</td>\n",
       "      <td>3</td>\n",
       "      <td>971.0</td>\n",
       "    </tr>\n",
       "    <tr>\n",
       "      <td>3212</td>\n",
       "      <td>1489</td>\n",
       "      <td>12</td>\n",
       "      <td>0.0</td>\n",
       "      <td>35.0</td>\n",
       "      <td>17341.0</td>\n",
       "      <td>35</td>\n",
       "      <td>0</td>\n",
       "      <td>Санкт-Петербург</td>\n",
       "      <td>Павел</td>\n",
       "      <td>Гончаров</td>\n",
       "      <td>2018-08-15</td>\n",
       "      <td>smart</td>\n",
       "      <td>50</td>\n",
       "      <td>15360</td>\n",
       "      <td>500</td>\n",
       "      <td>550</td>\n",
       "      <td>200</td>\n",
       "      <td>3</td>\n",
       "      <td>3</td>\n",
       "      <td>937.0</td>\n",
       "    </tr>\n",
       "    <tr>\n",
       "      <td>3213</td>\n",
       "      <td>1476</td>\n",
       "      <td>4</td>\n",
       "      <td>0.0</td>\n",
       "      <td>0.0</td>\n",
       "      <td>531.0</td>\n",
       "      <td>50</td>\n",
       "      <td>0</td>\n",
       "      <td>Москва</td>\n",
       "      <td>Валентина</td>\n",
       "      <td>Семенова</td>\n",
       "      <td>2018-04-30</td>\n",
       "      <td>ultra</td>\n",
       "      <td>1000</td>\n",
       "      <td>30720</td>\n",
       "      <td>3000</td>\n",
       "      <td>1950</td>\n",
       "      <td>150</td>\n",
       "      <td>1</td>\n",
       "      <td>1</td>\n",
       "      <td>1950.0</td>\n",
       "    </tr>\n",
       "  </tbody>\n",
       "</table>\n",
       "<p>3214 rows × 20 columns</p>\n",
       "</div>"
      ],
      "text/plain": [
       "      user_id  month  calls_duration  messages_count  mb_used  age churn_date  \\\n",
       "0        1000      5           159.0            22.0   2256.0   52          0   \n",
       "1        1000      6           172.0            60.0  23257.0   52          0   \n",
       "2        1000      7           340.0            75.0  14016.0   52          0   \n",
       "3        1000      8           408.0            81.0  14070.0   52          0   \n",
       "4        1000      9           466.0            57.0  14581.0   52          0   \n",
       "...       ...    ...             ...             ...      ...  ...        ...   \n",
       "3209     1489      9             0.0            32.0  17232.0   35          0   \n",
       "3210     1489     10             0.0            21.0  19588.0   35          0   \n",
       "3211     1489     11             0.0            20.0  17516.0   35          0   \n",
       "3212     1489     12             0.0            35.0  17341.0   35          0   \n",
       "3213     1476      4             0.0             0.0    531.0   50          0   \n",
       "\n",
       "                 city first_name  last_name   reg_date tariff_name  \\\n",
       "0           Краснодар     Рафаил  Верещагин 2018-05-25       ultra   \n",
       "1           Краснодар     Рафаил  Верещагин 2018-05-25       ultra   \n",
       "2           Краснодар     Рафаил  Верещагин 2018-05-25       ultra   \n",
       "3           Краснодар     Рафаил  Верещагин 2018-05-25       ultra   \n",
       "4           Краснодар     Рафаил  Верещагин 2018-05-25       ultra   \n",
       "...               ...        ...        ...        ...         ...   \n",
       "3209  Санкт-Петербург      Павел   Гончаров 2018-08-15       smart   \n",
       "3210  Санкт-Петербург      Павел   Гончаров 2018-08-15       smart   \n",
       "3211  Санкт-Петербург      Павел   Гончаров 2018-08-15       smart   \n",
       "3212  Санкт-Петербург      Павел   Гончаров 2018-08-15       smart   \n",
       "3213           Москва  Валентина   Семенова 2018-04-30       ultra   \n",
       "\n",
       "      messages_included  mb_per_month_included  minutes_included  \\\n",
       "0                  1000                  30720              3000   \n",
       "1                  1000                  30720              3000   \n",
       "2                  1000                  30720              3000   \n",
       "3                  1000                  30720              3000   \n",
       "4                  1000                  30720              3000   \n",
       "...                 ...                    ...               ...   \n",
       "3209                 50                  15360               500   \n",
       "3210                 50                  15360               500   \n",
       "3211                 50                  15360               500   \n",
       "3212                 50                  15360               500   \n",
       "3213               1000                  30720              3000   \n",
       "\n",
       "      rub_monthly_fee  rub_per_gb  rub_per_message  rub_per_minute  \\\n",
       "0                1950         150                1               1   \n",
       "1                1950         150                1               1   \n",
       "2                1950         150                1               1   \n",
       "3                1950         150                1               1   \n",
       "4                1950         150                1               1   \n",
       "...               ...         ...              ...             ...   \n",
       "3209              550         200                3               3   \n",
       "3210              550         200                3               3   \n",
       "3211              550         200                3               3   \n",
       "3212              550         200                3               3   \n",
       "3213             1950         150                1               1   \n",
       "\n",
       "      month_revenue  \n",
       "0            1950.0  \n",
       "1            1950.0  \n",
       "2            1950.0  \n",
       "3            1950.0  \n",
       "4            1950.0  \n",
       "...             ...  \n",
       "3209          916.0  \n",
       "3210         1376.0  \n",
       "3211          971.0  \n",
       "3212          937.0  \n",
       "3213         1950.0  \n",
       "\n",
       "[3214 rows x 20 columns]"
      ]
     },
     "metadata": {},
     "output_type": "display_data"
    }
   ],
   "source": [
    "#Для расчета помесячной выручки с каждого пользователя объединим последовательно методом merge() таблицы, в которых есть столбцы,\n",
    "#необходимые нам для рассчетов:\n",
    "df_merged = df_calls_duration.merge(df_messages_count, on = ['user_id', 'month'], how ='outer')\n",
    "df_merged = df_merged.merge(df_internet_used, on = ['user_id', 'month'], how ='outer')\n",
    "df_merged.reset_index(inplace = True)\n",
    "df_merged = df_merged.merge(df_users, on = 'user_id', how = 'left')\n",
    "#Переименую столбец tariff методом rename():\n",
    "df_merged.rename(columns = {'tariff': 'tariff_name'}, inplace = True)\n",
    "df_merged = df_merged.merge(df_tariffs, on = 'tariff_name', how = 'left')\n",
    "\n",
    "#Заполню пропуски в итоговой таблице на 0, чтобы в интересующем меня столбце с выручкой по каждому пользователю не было значений\n",
    "#Nan:\n",
    "df_merged = df_merged.fillna(0)\n",
    "\n",
    "#Создам функцию для рассчета значений выручки по каждому пользователю:\n",
    "def month_revenue(row):    \n",
    "    if row['calls_duration'] < row['minutes_included']:\n",
    "        calls_revenue = 0\n",
    "    else:\n",
    "        calls_revenue = (row['calls_duration'] - row['minutes_included']) * row['rub_per_minute']\n",
    "        \n",
    "    \n",
    "    if row['messages_count'] < row['messages_included']:\n",
    "        message_revenue = 0\n",
    "    else:\n",
    "        message_revenue = (row['messages_count'] - row['messages_included']) * row['rub_per_message'] \n",
    "        \n",
    "        \n",
    "    if row['mb_used'] < row['mb_per_month_included']:\n",
    "        internet_revenue = 0\n",
    "    else:\n",
    "        internet_revenue = (row['mb_used'] - row['mb_per_month_included']) / 1024 * row['rub_per_gb']\n",
    "        \n",
    "#Общая выручка будет равна сумме тарифа, выручки от звонков, сообщений и Интернета:    \n",
    "    total_revenue =  row['rub_monthly_fee'] + calls_revenue + message_revenue + internet_revenue\n",
    "    return total_revenue\n",
    "\n",
    "#Создам с помощью метода apply() столбец month_revenue с выручкой по каждому пользователю, округлю значения с помощью метода\n",
    "#round():\n",
    "df_merged['month_revenue'] = df_merged.apply(month_revenue, axis = 1).round()\n",
    "display(df_merged)"
   ]
  },
  {
   "cell_type": "code",
   "execution_count": 16,
   "metadata": {},
   "outputs": [
    {
     "name": "stdout",
     "output_type": "stream",
     "text": [
      "498\n"
     ]
    }
   ],
   "source": [
    "print(f'{df_merged[\"user_id\"].nunique()}')"
   ]
  },
  {
   "cell_type": "markdown",
   "metadata": {},
   "source": [
    "<a name=\"6\"></a>\n",
    "### Шаг 3. Анализ данных"
   ]
  },
  {
   "cell_type": "markdown",
   "metadata": {},
   "source": [
    "<a name=\"7\"></a>\n",
    "### Расчет среднего количества, дисперсии и стандартного отклонения:\n",
    "### Звонки Smart"
   ]
  },
  {
   "cell_type": "code",
   "execution_count": 17,
   "metadata": {},
   "outputs": [
    {
     "data": {
      "text/plain": [
       "count    2229.000000\n",
       "mean      417.934948\n",
       "std       190.313730\n",
       "min         0.000000\n",
       "25%       282.000000\n",
       "50%       422.000000\n",
       "75%       545.000000\n",
       "max      1435.000000\n",
       "Name: calls_duration, dtype: float64"
      ]
     },
     "execution_count": 17,
     "metadata": {},
     "output_type": "execute_result"
    },
    {
     "data": {
      "image/png": "[encoded data removed]",
      "text/plain": [
       "<Figure size 432x288 with 1 Axes>"
      ]
     },
     "metadata": {
      "needs_background": "light"
     },
     "output_type": "display_data"
    }
   ],
   "source": [
    "#С помощью метода query() отсортирую столбец tariff_name таблицы df_merged по тарифу \"smart\", чтобы далее анализировать \n",
    "#длительность звонков, количество сообщений и израсходованные мегабайты пользователей данного тарифа:\n",
    "df_merged_smart = df_merged.query('tariff_name == \"smart\"')\n",
    "\n",
    "#Построю диаграмму размаха для столбца calls_duration таблицы df_merged_smart, чтобы получить \"ящик с усами\" и увидеть \n",
    "#выбросы по длительности звонков в тарифе Smart:\n",
    "sns.boxplot(df_merged_smart['calls_duration'])\n",
    "plt.title(\"Диаграмма размаха: длительность звонков - Smart\")\n",
    "df_merged_smart['calls_duration'].describe()"
   ]
  },
  {
   "cell_type": "markdown",
   "metadata": {},
   "source": [
    "По диаграмме размаха можно увидеть выбросы выше значения приблизительно равного 900. Среднее значение равно 417, что немного меньше медианного (422). Скорее всего большое количество нулевых значений (неотвеченные звонки и Nan, замененные в прошлом шаге на 0) и, наоборот, больших выбросов сказалось на среднем и медиане."
   ]
  },
  {
   "cell_type": "code",
   "execution_count": 18,
   "metadata": {},
   "outputs": [
    {
     "name": "stdout",
     "output_type": "stream",
     "text": [
      "Средняя продолжительность звонков: 415.19\n",
      "Средняя продолжительность звонков по месяцам: month\n",
      "1     210.03\n",
      "2     298.69\n",
      "3     390.05\n",
      "4     370.44\n",
      "5     387.36\n",
      "6     398.07\n",
      "7     408.35\n",
      "8     420.79\n",
      "9     430.27\n",
      "10    420.43\n",
      "11    433.41\n",
      "12    464.42\n",
      "Name: calls_duration, dtype: float64\n",
      "Дисперсия: 33353.03\n",
      "Стандартное отклонение: 182.59\n"
     ]
    }
   ],
   "source": [
    "#С помощью метода query() построю срез для столбца calls_duration таблицы df_merged_smart, чтобы отсортировать выбросы\n",
    "#по длитнельности звонков в тарифе Smart: \n",
    "df_merged_smart_calls = df_merged_smart.query('900 > calls_duration > 0')\n",
    "#display(df_merged_smart_calls)\n",
    "\n",
    "#Рассчитаю среднее значение для столбца calls_duration таблицы df_merged_smart_calls, округлю значения с помощью метода \n",
    "#round():\n",
    "calls_duration_smart_average = df_merged_smart_calls['calls_duration'].mean().round(2)\n",
    "print('Средняя продолжительность звонков:', calls_duration_smart_average)\n",
    "\n",
    "#Рассчитаю среднее значение для столбца calls_duration таблицы df_merged_smart_calls, сгруппировав методом groupby() столбец\n",
    "#по месяцам, округлю значения с помощью метода round():\n",
    "calls_duration_smart_average_month = df_merged_smart_calls.groupby('month')['calls_duration'].mean().round(2)\n",
    "print('Средняя продолжительность звонков по месяцам:', calls_duration_smart_average_month)\n",
    "\n",
    "#Рассчитаю дисперсию для столбца calls_duration с помощью метода np.var():\n",
    "calls_duration_smart_variance = np.var(df_merged_smart_calls['calls_duration'], ddof = 1).round(2)\n",
    "print('Дисперсия:', calls_duration_smart_variance)\n",
    "\n",
    "#Рассчитаю стандартное отклонение для столбца calls_duration с помощью метода np.std():\n",
    "calls_duration_smart_st_deviation = np.std(df_merged_smart_calls['calls_duration']).round(2)\n",
    "print('Стандартное отклонение:', calls_duration_smart_st_deviation)"
   ]
  },
  {
   "cell_type": "code",
   "execution_count": 19,
   "metadata": {},
   "outputs": [
    {
     "data": {
      "image/png": "[encoded data removed]",
      "text/plain": [
       "<Figure size 864x360 with 1 Axes>"
      ]
     },
     "metadata": {
      "needs_background": "light"
     },
     "output_type": "display_data"
    }
   ],
   "source": [
    "#Построю график, который покажет среднюю длительность разговоров пользователей тарифа Smart по месяцам, предварительно создав \n",
    "#сводную таблицу:\n",
    "grouped_calls_s = df_merged_smart_calls.pivot_table(index = 'month', values = 'calls_duration')\n",
    "grouped_calls_s.plot(ylim = (0, 600), xlim = (1, 12), title = \"Среднее количество использованных минут по месяцам - Smart\", \n",
    "                     figsize = (12, 5), grid = True)\n",
    "plt.show()"
   ]
  },
  {
   "cell_type": "markdown",
   "metadata": {},
   "source": [
    "### Звонки Ultra"
   ]
  },
  {
   "cell_type": "code",
   "execution_count": 20,
   "metadata": {},
   "outputs": [
    {
     "data": {
      "text/plain": [
       "count     985.000000\n",
       "mean      526.623350\n",
       "std       317.606098\n",
       "min         0.000000\n",
       "25%       284.000000\n",
       "50%       518.000000\n",
       "75%       752.000000\n",
       "max      1673.000000\n",
       "Name: calls_duration, dtype: float64"
      ]
     },
     "execution_count": 20,
     "metadata": {},
     "output_type": "execute_result"
    },
    {
     "data": {
      "image/png": "[encoded data removed]",
      "text/plain": [
       "<Figure size 432x288 with 1 Axes>"
      ]
     },
     "metadata": {
      "needs_background": "light"
     },
     "output_type": "display_data"
    }
   ],
   "source": [
    "#С помощью метода query() отсортирую столбец tariff_name таблицы df_merged по тарифу \"ultra\", чтобы далее анализировать \n",
    "#длительность звонков, количество сообщений и израсходованные мегабайты пользователей данного тарифа:\n",
    "df_merged_ultra = df_merged.query('tariff_name == \"ultra\"')\n",
    "#display(df_merged_ultra)\n",
    "\n",
    "#Построю диаграмму размаха для столбца calls_duration таблицы df_merged_ultra, чтобы получить \"ящик с усами\" и увидеть \n",
    "#выбросы по длительности звонков в тарифе Ultra:\n",
    "sns.boxplot(df_merged_ultra['calls_duration'])\n",
    "plt.title(\"Диаграмма размаха: длительность звонков - Ultra\")\n",
    "df_merged_ultra['calls_duration'].describe()"
   ]
  },
  {
   "cell_type": "markdown",
   "metadata": {},
   "source": [
    "На диаграмме размаха наблюдаются выбросы приблизительно выше значения 1330 минут. Среднее значение равно 526, медианное значение равно 518 - присутствие больших выбросов немного сказалось на среднем."
   ]
  },
  {
   "cell_type": "code",
   "execution_count": 21,
   "metadata": {},
   "outputs": [
    {
     "name": "stdout",
     "output_type": "stream",
     "text": [
      "Средняя продолжительность звонков: 541.93\n",
      "Средняя продолжительность звонков по месяцам: month\n",
      "1     428.11\n",
      "2     310.04\n",
      "3     458.56\n",
      "4     475.30\n",
      "5     534.25\n",
      "6     486.06\n",
      "7     570.89\n",
      "8     535.81\n",
      "9     563.96\n",
      "10    568.18\n",
      "11    562.36\n",
      "12    601.38\n",
      "Name: calls_duration, dtype: float64\n",
      "Дисперсия: 88455.83\n",
      "Стандартное отклонение: 297.26\n"
     ]
    }
   ],
   "source": [
    "#С помощью метода query() построю срез для столбца calls_duration таблицы df_merged_ultra, чтобы отсортировать выбросы \n",
    "#по длительности звонков в тарифе Ultra: \n",
    "df_merged_ultra_calls = df_merged_ultra.query('1330 > calls_duration > 0')\n",
    "#display(df_merged_ultra_calls)\n",
    "\n",
    "#Рассчитаю среднее значение для столбца calls_duration таблицы df_merged_ultra_calls, округлю значения с помощью метода \n",
    "#round():\n",
    "calls_duration_ultra_average = df_merged_ultra_calls['calls_duration'].mean().round(2)\n",
    "print('Средняя продолжительность звонков:', calls_duration_ultra_average)\n",
    "\n",
    "#Рассчитаю среднее значение для столбца calls_duration таблицы df_merged_ultra_calls, сгруппировав методом groupby() столбец\n",
    "#по месяцам, округлю значения с помощью метода round():\n",
    "calls_duration_ultra_average_month = df_merged_ultra_calls.groupby('month')['calls_duration'].mean().round(2)\n",
    "print('Средняя продолжительность звонков по месяцам:', calls_duration_ultra_average_month)\n",
    "\n",
    "#Рассчитаю дисперсию для столбца calls_duration с помощью метода np.var():\n",
    "calls_duration_ultra_variance = np.var(df_merged_ultra_calls['calls_duration'], ddof = 1).round(2)\n",
    "print('Дисперсия:', calls_duration_ultra_variance)\n",
    "\n",
    "#Рассчитаю стандартное отклонение для столбца calls_duration с помощью метода np.std():\n",
    "calls_duration_ultra_st_deviation = np.std(df_merged_ultra_calls['calls_duration']).round(2)\n",
    "print('Стандартное отклонение:', calls_duration_ultra_st_deviation)"
   ]
  },
  {
   "cell_type": "code",
   "execution_count": 22,
   "metadata": {},
   "outputs": [
    {
     "data": {
      "text/plain": [
       "<matplotlib.axes._subplots.AxesSubplot at 0x7f91bdc29250>"
      ]
     },
     "execution_count": 22,
     "metadata": {},
     "output_type": "execute_result"
    },
    {
     "data": {
      "image/png": "[encoded data removed]",
      "text/plain": [
       "<Figure size 864x360 with 1 Axes>"
      ]
     },
     "metadata": {
      "needs_background": "light"
     },
     "output_type": "display_data"
    }
   ],
   "source": [
    "#Построю график, который покажет среднюю длительность разговоров пользователей тарифа Ultra по месяцам:\n",
    "grouped_calls_u = df_merged_ultra_calls.pivot_table(index = 'month', values = 'calls_duration')\n",
    "grouped_calls_u.plot(ylim = (0, 700),xlim =(1, 12), title = \"Среднее количество использованных минут по месяцам - Ultra\",\\\n",
    "                     figsize = (12, 5), grid = True)"
   ]
  },
  {
   "cell_type": "code",
   "execution_count": 23,
   "metadata": {},
   "outputs": [
    {
     "data": {
      "image/png": "[encoded data removed]",
      "text/plain": [
       "<Figure size 576x360 with 1 Axes>"
      ]
     },
     "metadata": {
      "needs_background": "light"
     },
     "output_type": "display_data"
    },
    {
     "data": {
      "image/png": "[encoded data removed]",
      "text/plain": [
       "<Figure size 576x360 with 1 Axes>"
      ]
     },
     "metadata": {
      "needs_background": "light"
     },
     "output_type": "display_data"
    }
   ],
   "source": [
    "#Чтобы увидеть частоту продолжительности звонков в каждом из 2-ух тарифов, построю гистограммы по столбцу calls_duration \n",
    "#обоих таблиц - df_merged_smart_calls и df_merged_ultra_calls:\n",
    "import matplotlib.pyplot as plt\n",
    "def simple_func_3(df_merged_smart_calls, df_merged_ultra_calls):\n",
    "    \n",
    "    df_merged_smart_calls.plot(y = 'calls_duration', kind = 'hist', bins = 100, grid = True, figsize = (8,5),\\\n",
    "                               range = (1, 1500), title = \"Продолжительность звонков Smart\")\n",
    "    \n",
    "    df_merged_ultra_calls.plot(y = 'calls_duration', kind = 'hist', bins = 100, grid = True, figsize = (8,5),\\\n",
    "                               range = (1, 2000), title = \"Продолжительность звонков Ultra\")\n",
    "    \n",
    "simple_func_3(\n",
    "    df_merged_smart_calls,\n",
    "    df_merged_ultra_calls\n",
    ")"
   ]
  },
  {
   "cell_type": "code",
   "execution_count": 24,
   "metadata": {},
   "outputs": [
    {
     "name": "stdout",
     "output_type": "stream",
     "text": [
      "Звонки Smart \n"
     ]
    },
    {
     "data": {
      "text/plain": [
       "count    2205.000000\n",
       "mean      415.192744\n",
       "std       182.628113\n",
       "min         2.000000\n",
       "25%       283.000000\n",
       "50%       421.000000\n",
       "75%       543.000000\n",
       "max       891.000000\n",
       "Name: calls_duration, dtype: float64"
      ]
     },
     "metadata": {},
     "output_type": "display_data"
    },
    {
     "name": "stdout",
     "output_type": "stream",
     "text": [
      "Звонки Ultra\n"
     ]
    },
    {
     "data": {
      "text/plain": [
       "count     941.000000\n",
       "mean      541.925611\n",
       "std       297.415257\n",
       "min         1.000000\n",
       "25%       311.000000\n",
       "50%       526.000000\n",
       "75%       755.000000\n",
       "max      1322.000000\n",
       "Name: calls_duration, dtype: float64"
      ]
     },
     "metadata": {},
     "output_type": "display_data"
    }
   ],
   "source": [
    "#Получу характерную информацию по столбцу calls_duration каждой из таблиц - df_merged_smart_calls и \n",
    "#df_merged_ultra_calls:\n",
    "\n",
    "def simple_func_4(df_merged_smart_calls, df_merged_ultra_calls):\n",
    "    \n",
    "    print('Звонки Smart ')\n",
    "    display(df_merged_smart_calls['calls_duration'].describe())\n",
    "    \n",
    "    print('Звонки Ultra')\n",
    "    display(df_merged_ultra_calls['calls_duration'].describe())\n",
    "\n",
    "simple_func_4(\n",
    "    df_merged_smart_calls,\n",
    "    df_merged_ultra_calls\n",
    ")    "
   ]
  },
  {
   "cell_type": "markdown",
   "metadata": {},
   "source": [
    "В среднем клиент тарифа Smart тратит примерно 415 минут на телефонные разговоры, в сравнение, пользователь тарифа Ultra - 542 минуты.\n",
    "К тому же средняя продолжительность разговоров в месяц у пользователей тарифа Smart постепенно увеличивается с января до декабря - от 210 до 464 минут соответственно, прибавляя до 30% в росте каждый месяц. В свою очередь пользователи тарифа Ultra разговаривают примерно 428 минут в январе и 601 минуту в декабре, в феврале происходит спад средней продолжительности разговоров на 28%, но в марте этот показатель начинает расти.\n",
    "\n",
    "В целом в обоих случаях можно наблюдать нормальное распределение данных, так как и в случае с тарифом Smart, и с Ultra работает правило 3-ёх сигм. Практически все значения (около 99%) находятся в промежутке (μ-3σ, μ+3σ): Smart (-129.37, 915.59), Ultra (-336.56, 1364.56). \n",
    "\n",
    "Медианное значение продолжительности разговоров тарифа Smart равно\n",
    "\n",
    "Можно сделать вывод, что пользователь тарифа Smart в среднем не тратит все 500 минут, включенных в ежемесячный пакет услуг, но третий квартиль равен 543 (то есть 75% пользователей тратят в среднем до 543 минут на разговоры), это значит, что около 30% пользователей расходуют дополнительные минуты, не включенные в тариф(500 минут). За 43 минуты клиенты доплачивают 3 руб.* 43 мин.= 129 руб.\n",
    "Пользователи тарифа Ultra вообще не трятят все 3000 минут включенные в тариф, максимум - 1322 минут, что меньше половины от предложенного оператором времени. Следовательно и дополнительные минуты пользователями тарифа Ultra невостребованы."
   ]
  },
  {
   "cell_type": "markdown",
   "metadata": {},
   "source": [
    "<a name=\"8\"></a>\n",
    "### Сообщения Smart"
   ]
  },
  {
   "cell_type": "code",
   "execution_count": 25,
   "metadata": {},
   "outputs": [
    {
     "data": {
      "text/plain": [
       "count    2229.000000\n",
       "mean       33.384029\n",
       "std        28.227876\n",
       "min         0.000000\n",
       "25%        10.000000\n",
       "50%        28.000000\n",
       "75%        51.000000\n",
       "max       143.000000\n",
       "Name: messages_count, dtype: float64"
      ]
     },
     "execution_count": 25,
     "metadata": {},
     "output_type": "execute_result"
    },
    {
     "data": {
      "image/png": "[encoded data removed]",
      "text/plain": [
       "<Figure size 432x288 with 1 Axes>"
      ]
     },
     "metadata": {
      "needs_background": "light"
     },
     "output_type": "display_data"
    }
   ],
   "source": [
    "#Построю диаграмму размаха для столбца messages_count таблицы df_merged_smart, чтобы получить \"ящик с усами\" и увидеть \n",
    "#выбросы по количеству сообщений в тарифе Smart:\n",
    "sns.boxplot(df_merged_smart['messages_count'])\n",
    "plt.title(\"Диаграмма размаха: количество сообщений - Smart\")\n",
    "#Методом describe() получила характерные значения столбца messages_count: \n",
    "df_merged_smart['messages_count'].describe()"
   ]
  },
  {
   "cell_type": "markdown",
   "metadata": {},
   "source": [
    "На построенных диаграмме размаха хорошо видны выбросы - ими можно считать значения выше 112, а медиана количества сообщений равна 28, что немного меньше среднего (33) - причиной чего являются выбросы. Очищу столбец messages_count от выбросов, а также от нулевых значений, которых очень много (в прошлом шаге пришлось поменять Nan на 0, чтобы вывести выручку с каждого клиента в отдельный столбец)."
   ]
  },
  {
   "cell_type": "code",
   "execution_count": 26,
   "metadata": {},
   "outputs": [
    {
     "name": "stdout",
     "output_type": "stream",
     "text": [
      "Среднее количество сообщений: 38.02\n",
      "Среднее количество сообщений по месяцам: month\n",
      "1     20.00\n",
      "2     27.94\n",
      "3     35.55\n",
      "4     35.86\n",
      "5     39.03\n",
      "6     37.34\n",
      "7     38.42\n",
      "8     37.92\n",
      "9     38.44\n",
      "10    38.34\n",
      "11    39.26\n",
      "12    41.05\n",
      "Name: messages_count, dtype: float64\n",
      "Дисперсия: 660.52\n",
      "Стандартное отклонение: 25.7\n"
     ]
    }
   ],
   "source": [
    "#С помощью метода query() построю срез для столбца messages_count таблицы df_merged_smart, чтобы отсортировать выбросы\n",
    "#количества сообщений в тарифе Smart: \n",
    "df_merged_smart_messages = df_merged_smart.query('0 < messages_count < 112')\n",
    "#display(df_merged_smart_messages)\n",
    "\n",
    "#Рассчитаю среднее значение для столбца messages_count таблицы df_merged_smart_messages, округлю значения с помощью метода \n",
    "#round():\n",
    "messages_count_smart_average = df_merged_smart_messages['messages_count'].mean().round(2)\n",
    "print('Среднее количество сообщений:', messages_count_smart_average)\n",
    "\n",
    "#Рассчитаю среднее значение для столбца messages_count таблицы df_merged_smart_messages, сгруппировав методом groupby()\n",
    "#столбец по месяцам, округлю значения с помощью метода round():\n",
    "messages_count_smart_average_month = df_merged_smart_messages.groupby('month')['messages_count'].mean().round(2)\n",
    "print('Среднее количество сообщений по месяцам:', messages_count_smart_average_month)\n",
    "\n",
    "#Рассчитаю дисперсию для столбца messages_count с помощью метода np.var():\n",
    "messages_count_smart_variance = np.var(df_merged_smart_messages['messages_count'], ddof = 1).round(2)\n",
    "print('Дисперсия:', messages_count_smart_variance)\n",
    "\n",
    "#Рассчитаю стандартное отклонение для столбца messages_count, получив корень из дисперсии методом np.sqrt():\n",
    "messages_count_smart_st_deviation = np.sqrt(messages_count_smart_variance).round(2)\n",
    "print('Стандартное отклонение:', messages_count_smart_st_deviation)"
   ]
  },
  {
   "cell_type": "code",
   "execution_count": 27,
   "metadata": {},
   "outputs": [
    {
     "data": {
      "text/plain": [
       "<matplotlib.axes._subplots.AxesSubplot at 0x7f91bbf34710>"
      ]
     },
     "execution_count": 27,
     "metadata": {},
     "output_type": "execute_result"
    },
    {
     "data": {
      "image/png": "[encoded data removed]",
      "text/plain": [
       "<Figure size 864x360 with 1 Axes>"
      ]
     },
     "metadata": {
      "needs_background": "light"
     },
     "output_type": "display_data"
    }
   ],
   "source": [
    "#Построю график, который покажет среднееколичество отправленных сообщений пользователей тарифа Smart по месяцам, предварительно\n",
    "#создав сводную таблицу:\n",
    "grouped_messages_s = df_merged_smart_messages.pivot_table(index = 'month', values = 'messages_count')\n",
    "grouped_messages_s.plot(ylim = (0, 60), xlim = (1, 12),\\\n",
    "                        title = \"Среднее количество отправленных сообщений по месяцам - Smart\", figsize = (12, 5), grid = True)"
   ]
  },
  {
   "cell_type": "markdown",
   "metadata": {},
   "source": [
    "   ### Сообщения Ultra"
   ]
  },
  {
   "cell_type": "code",
   "execution_count": 28,
   "metadata": {},
   "outputs": [
    {
     "data": {
      "text/plain": [
       "count    985.000000\n",
       "mean      49.363452\n",
       "std       47.804457\n",
       "min        0.000000\n",
       "25%        6.000000\n",
       "50%       38.000000\n",
       "75%       79.000000\n",
       "max      224.000000\n",
       "Name: messages_count, dtype: float64"
      ]
     },
     "execution_count": 28,
     "metadata": {},
     "output_type": "execute_result"
    },
    {
     "data": {
      "image/png": "[encoded data removed]",
      "text/plain": [
       "<Figure size 432x288 with 1 Axes>"
      ]
     },
     "metadata": {
      "needs_background": "light"
     },
     "output_type": "display_data"
    }
   ],
   "source": [
    "#Построю диаграмму размаха для столбца messages_count таблицы df_merged_ultra, чтобы получить \"ящик с усами\" и увидеть \n",
    "#выбросы по количеству сообщений в тарифе Ultra:\n",
    "sns.boxplot(df_merged_ultra['messages_count'])\n",
    "plt.title(\"Диаграмма размаха: количество сообщений - Ultra\")\n",
    "#Методом describe() получила характерные значения столбца messages_count: \n",
    "df_merged_ultra['messages_count'].describe()"
   ]
  },
  {
   "cell_type": "markdown",
   "metadata": {},
   "source": [
    "По диаграмме размаха можно увидеть выбросы выше значения 185, медиана равна 38, в сравнение среднее равно 49, выбросы значительно  сказались на среднем значении. Очищу столбец messages_count от выбросов, а также от нулевых значений, которых очень много (в прошлом шаге пришлось поменять Nan на 0, чтобы вывести выручку с каждого клиента в отдельный столбец)."
   ]
  },
  {
   "cell_type": "code",
   "execution_count": 29,
   "metadata": {},
   "outputs": [
    {
     "name": "stdout",
     "output_type": "stream",
     "text": [
      "Среднее количество сообщений: 59.39\n",
      "Среднее количество сообщений по месяцам: month\n",
      "1     43.43\n",
      "2     32.94\n",
      "3     47.80\n",
      "4     44.51\n",
      "5     48.77\n",
      "6     50.06\n",
      "7     60.07\n",
      "8     58.90\n",
      "9     61.97\n",
      "10    64.63\n",
      "11    64.99\n",
      "12    69.65\n",
      "Name: messages_count, dtype: float64\n",
      "Дисперсия: 1884.83\n",
      "Стандартное отклонение: 43.41\n"
     ]
    }
   ],
   "source": [
    "#С помощью метода query() построю срез для столбца messages_count таблицы df_merged_ultra, чтобы отсортировать выбросы \n",
    "#количества сообщений в тарифе Ultra: \n",
    "df_merged_ultra_messages = df_merged_ultra.query('185 > messages_count > 0')\n",
    "#display(df_merged_ultra_messages)\n",
    "\n",
    "#Рассчитаю среднее значение для столбца messages_count таблицы df_merged_ultra_messages, округлю значения с помощью метода \n",
    "#round():\n",
    "messages_count_ultra_average = df_merged_ultra_messages['messages_count'].mean().round(2)\n",
    "print('Среднее количество сообщений:', messages_count_ultra_average)\n",
    "\n",
    "#Рассчитаю среднее значение для столбца messages_count таблицы df_merged_ultra_messages, сгруппировав методом groupby() \n",
    "#столбец по месяцам, округлю значения с помощью метода round():\n",
    "messages_count_ultra_average_month = df_merged_ultra_messages.groupby('month')['messages_count'].mean().round(2)\n",
    "print('Среднее количество сообщений по месяцам:', messages_count_ultra_average_month)\n",
    "\n",
    "#Рассчитаю дисперсию для столбца messages_count с помощью метода np.var():\n",
    "messages_count_ultra_variance = np.var(df_merged_ultra_messages['messages_count'], ddof = 1).round(2)\n",
    "print('Дисперсия:', messages_count_ultra_variance)\n",
    "\n",
    "#Рассчитаю стандартное отклонение для столбца messages_count, получив корень из дисперсии методом np.sqrt():\n",
    "messages_count_ultra_st_deviation = np.sqrt(messages_count_ultra_variance).round(2)\n",
    "print('Стандартное отклонение:', messages_count_ultra_st_deviation)"
   ]
  },
  {
   "cell_type": "code",
   "execution_count": 30,
   "metadata": {},
   "outputs": [
    {
     "data": {
      "text/plain": [
       "<matplotlib.axes._subplots.AxesSubplot at 0x7f91bb71b350>"
      ]
     },
     "execution_count": 30,
     "metadata": {},
     "output_type": "execute_result"
    },
    {
     "data": {
      "image/png": "[encoded data removed]",
      "text/plain": [
       "<Figure size 864x360 with 1 Axes>"
      ]
     },
     "metadata": {
      "needs_background": "light"
     },
     "output_type": "display_data"
    }
   ],
   "source": [
    "#Построю график, который покажет среднее количество отправленных сообщений пользователей тарифа Ultra по месяцам, предварительно\n",
    "#создав сводную таблицу:\n",
    "grouped_messages_u = df_merged_ultra_messages.pivot_table(index = 'month', values = 'messages_count')\n",
    "grouped_messages_u.plot(ylim = (0, 80), xlim = (1, 12),\\\n",
    "                title = \"Среднее количество отправленных сообщений по месяцам - Ultra\", figsize = (12, 5), grid = True)"
   ]
  },
  {
   "cell_type": "code",
   "execution_count": 31,
   "metadata": {},
   "outputs": [
    {
     "data": {
      "text/plain": [
       "count    1907.000000\n",
       "mean       38.020975\n",
       "std        25.700502\n",
       "min         1.000000\n",
       "25%        17.000000\n",
       "50%        33.000000\n",
       "75%        55.000000\n",
       "max       111.000000\n",
       "Name: messages_count, dtype: float64"
      ]
     },
     "execution_count": 31,
     "metadata": {},
     "output_type": "execute_result"
    },
    {
     "data": {
      "image/png": "[encoded data removed]",
      "text/plain": [
       "<Figure size 432x432 with 1 Axes>"
      ]
     },
     "metadata": {
      "needs_background": "light"
     },
     "output_type": "display_data"
    }
   ],
   "source": [
    "#Построю с помощью метода plot() 2 гистограммы для столбца 'messages_count' двух таблиц - df_merged_smart и \n",
    "#df_merged_ultra, чтобы увидеть частоту отправки определенного количества сообщений в обоих тарифах:\n",
    "df_merged_smart_messages.plot(y = 'messages_count', kind = 'hist', bins = 100, grid = True, figsize = (6,6),\\\n",
    "                              range = (0, 200), title = \"Количество сообщений Smart\")\n",
    "#Методом describe() получу характерные значения столбца messages_count: \n",
    "df_merged_smart_messages['messages_count'].describe()"
   ]
  },
  {
   "cell_type": "code",
   "execution_count": 32,
   "metadata": {},
   "outputs": [
    {
     "data": {
      "text/plain": [
       "count    785.000000\n",
       "mean      59.391083\n",
       "std       43.414573\n",
       "min        1.000000\n",
       "25%       24.000000\n",
       "50%       50.000000\n",
       "75%       85.000000\n",
       "max      183.000000\n",
       "Name: messages_count, dtype: float64"
      ]
     },
     "execution_count": 32,
     "metadata": {},
     "output_type": "execute_result"
    },
    {
     "data": {
      "image/png": "[encoded data removed]",
      "text/plain": [
       "<Figure size 432x432 with 1 Axes>"
      ]
     },
     "metadata": {
      "needs_background": "light"
     },
     "output_type": "display_data"
    }
   ],
   "source": [
    "df_merged_ultra_messages.plot(y = 'messages_count', kind = 'hist', bins = 100, grid = True, figsize = (6,6),\\\n",
    "                              range = (0, 300), title = \"Количество сообщений Ultra\")\n",
    "df_merged_ultra_messages['messages_count'].describe()"
   ]
  },
  {
   "cell_type": "markdown",
   "metadata": {},
   "source": [
    "После сортировки столбца messages_count таблицы df_merged_smart от выбросов и нулевых значений среднее увеличилось с 33 до 38( медиана тоже увеличилась - видимо нулевых значений было слишком много). Получается, что в среднем пользователь тарифа Smart отправляет 38 сообщений в месяц. Но третий квартиль равен 51, значит примерно 25% клиентов доплачивают за 1 и более дополнительное сообщение, стомость одного которого равна 3 рубля.\n",
    "После же сортировки от выбросов и нулей столбца messages_count таблицы df_merged_ultra среднее значение выросло с 49 до 59, медиана также выросла по той же причине, что и в тарифе Smart - большое количество нулевых значений. В итоге пользователь тарифа Ultra в среднем отправляет 59 сообщений в месяц. \n",
    "В среднем ни пользователь тарифа Smart, ни Ultra не отправляют больше сообщений, чем включены в их пакеты, при том пользователи тарифа Ultra не отправляют даже 6% сообщений от включенных в их пакет услуг.\n",
    "\n",
    "Здесь похожая ситуация как и со звонками - количество сообщений увеличивается каждый месяц на 4-30%, с января по декабрь наблюдается рост в 2 раза у пользователей тарифа Smart - c 20 до 41 сообщения соответственно. Пользователи тарифа Ultra в декабре отправляют в среднем 43 сообщения, в марте количество сообщений, как и количество звонков падает, а затем опять растет, к декабрю среднее количество сообщений равно 70 - рост на 39%, считая с января.\n",
    "\n",
    "В обоих случаях датасеты имеют небольшую скошенность вправо, видимо и в случае с тарифом Smart, и с Ultra не всегда работает правило 3-ёх сигм (все значения (около 99%) находятся в промежутке (μ-3σ, μ+3σ)): Smart (-39.1, 115.1), Ultra (-71.23, 189.23). Но все же имееются небольшие выбросы, хотя я попыталась очистить данные от них."
   ]
  },
  {
   "cell_type": "markdown",
   "metadata": {},
   "source": [
    "<a name=\"9\"></a>\n",
    "### Интернет Smart"
   ]
  },
  {
   "cell_type": "code",
   "execution_count": 33,
   "metadata": {},
   "outputs": [
    {
     "data": {
      "text/plain": [
       "count     2229.000000\n",
       "mean     16229.188425\n",
       "std       5877.576978\n",
       "min          0.000000\n",
       "25%      12658.000000\n",
       "50%      16531.000000\n",
       "75%      20068.000000\n",
       "max      38610.000000\n",
       "Name: mb_used, dtype: float64"
      ]
     },
     "execution_count": 33,
     "metadata": {},
     "output_type": "execute_result"
    },
    {
     "data": {
      "image/png": "[encoded data removed]",
      "text/plain": [
       "<Figure size 432x288 with 1 Axes>"
      ]
     },
     "metadata": {
      "needs_background": "light"
     },
     "output_type": "display_data"
    }
   ],
   "source": [
    "#Построю диаграмму размаха для столбца mb_used таблицы df_merged_smart, чтобы получить \"ящик с усами\" и увидеть выбросы по\n",
    "#количеству использованных мегабайт в тарифе Smart:\n",
    "sns.boxplot(df_merged_smart['mb_used'])\n",
    "plt.title(\"Диаграмма размаха: использованные мегабайты - Smart\")\n",
    "#Методом describe() получу характерные значения столбца mb_used: \n",
    "df_merged_smart['mb_used'].describe()"
   ]
  },
  {
   "cell_type": "markdown",
   "metadata": {},
   "source": [
    "По диаграмме размаха видим выбросы ниже значения примерно 2000 и выше приблизительно 31000 мегабайт. Среднее равно 16208, что не сильно отличается от медианного значения (16507), видимол потому что выбросов ниже первого квартиля и выше четвертого квартиля одинаково много."
   ]
  },
  {
   "cell_type": "code",
   "execution_count": 34,
   "metadata": {},
   "outputs": [
    {
     "name": "stdout",
     "output_type": "stream",
     "text": [
      "Среднее количество израсходованных мегабайт: 16309.31\n",
      "Среднее количество израсходованных мегабайт по месяцам: month\n",
      "1      9502.27\n",
      "2     12393.09\n",
      "3     15123.86\n",
      "4     13832.51\n",
      "5     16138.39\n",
      "6     15982.59\n",
      "7     15985.78\n",
      "8     16516.97\n",
      "9     16504.65\n",
      "10    16944.70\n",
      "11    16909.67\n",
      "12    17679.42\n",
      "Name: mb_used, dtype: float64\n",
      "Дисперсия: 29380667.22\n",
      "Стандартное отклонение: 5420.39\n"
     ]
    }
   ],
   "source": [
    "#С помощью метода query() построю срез для столбца messages_count таблицы df_merged_smart, чтобы отсортировать выбросы \n",
    "#в тарифе Smart: \n",
    "df_merged_smart_mb_used = df_merged_smart.query('31000 > mb_used > 2000')\n",
    "#display(df_merged_smart_mb_used)\n",
    "\n",
    "#Рассчитаю среднее значение для столбца mb_used таблицы df_merged_smart_mb_used, округлю значения с помощью метода round():\n",
    "mb_used_smart_average = df_merged_smart_mb_used['mb_used'].mean().round(2)\n",
    "print('Среднее количество израсходованных мегабайт:', mb_used_smart_average)\n",
    "\n",
    "#Рассчитаю среднее значение для столбца mb_used таблицы df_merged_smart_mb_used, сгруппировав методом groupby() столбец по \n",
    "#месяцам, округлю значения с помощью метода round():\n",
    "mb_used_smart_average_month = df_merged_smart_mb_used.groupby('month')['mb_used'].mean().round(2)\n",
    "print('Среднее количество израсходованных мегабайт по месяцам:', mb_used_smart_average_month)\n",
    "\n",
    "#Рассчитаю дисперсию для столбца mb_used с помощью метода np.var():\n",
    "mb_used_smart_variance = np.var(df_merged_smart_mb_used['mb_used'], ddof = 1).round(2)\n",
    "print('Дисперсия:', mb_used_smart_variance)\n",
    "\n",
    "#Рассчитаю стандартное отклонение для столбца mb_used, получив корень из дисперсии методом np.sqrt():\n",
    "mb_used_smart_st_deviation = np.sqrt(mb_used_smart_variance).round(2)\n",
    "print('Стандартное отклонение:', mb_used_smart_st_deviation)"
   ]
  },
  {
   "cell_type": "code",
   "execution_count": 35,
   "metadata": {},
   "outputs": [
    {
     "data": {
      "text/plain": [
       "<matplotlib.axes._subplots.AxesSubplot at 0x7f91bb2d3e90>"
      ]
     },
     "execution_count": 35,
     "metadata": {},
     "output_type": "execute_result"
    },
    {
     "data": {
      "image/png": "[encoded data removed]",
      "text/plain": [
       "<Figure size 864x360 with 1 Axes>"
      ]
     },
     "metadata": {
      "needs_background": "light"
     },
     "output_type": "display_data"
    }
   ],
   "source": [
    "#Построю график, который покажет среднее количество отправленных сообщений пользователей тарифа Smart по месяцам, предварительно\n",
    "#создав сводную таблицу:\n",
    "grouped_mb_used_s = df_merged_smart_mb_used.pivot_table(index = 'month', values = 'mb_used')\n",
    "grouped_mb_used_s.plot(ylim = (0, 25000), xlim = (1, 12),\\\n",
    "                    title = \"Среднее количество использованных Мб по месяцам - Smart\", figsize = (12, 5), grid = True)"
   ]
  },
  {
   "cell_type": "markdown",
   "metadata": {},
   "source": [
    "### Интернет Ультра"
   ]
  },
  {
   "cell_type": "code",
   "execution_count": 36,
   "metadata": {},
   "outputs": [
    {
     "data": {
      "text/plain": [
       "count      985.000000\n",
       "mean     19486.901523\n",
       "std      10096.317202\n",
       "min          0.000000\n",
       "25%      11785.000000\n",
       "50%      19324.000000\n",
       "75%      26863.000000\n",
       "max      49789.000000\n",
       "Name: mb_used, dtype: float64"
      ]
     },
     "execution_count": 36,
     "metadata": {},
     "output_type": "execute_result"
    },
    {
     "data": {
      "image/png": "[encoded data removed]",
      "text/plain": [
       "<Figure size 432x288 with 1 Axes>"
      ]
     },
     "metadata": {
      "needs_background": "light"
     },
     "output_type": "display_data"
    }
   ],
   "source": [
    "#Построю диаграмму размаха для столбца mb_used таблицы df_merged_ultra, чтобы получить \"ящик с усами\" и увидеть выбросы по \n",
    "#количеству использованных мегабайт в тарифе Ultra:\n",
    "sns.boxplot(df_merged_ultra['mb_used'])\n",
    "plt.title(\"Диаграмма размаха: использованные мегабайты - Ultra\")\n",
    "#Методом describe() получу характерные значения столбца mb_used: \n",
    "df_merged_ultra['mb_used'].describe()"
   ]
  },
  {
   "cell_type": "markdown",
   "metadata": {},
   "source": [
    "По диаграмме размаха видим, что выбросов совсем немного и ими можно считать значения выше приблизительно 48000 мегабайт. Среднее значение равно 19486, что не намного отличается от медианы (19324), выбросов очень мало, поэтому они сильно не повлияли на среднее."
   ]
  },
  {
   "cell_type": "code",
   "execution_count": 37,
   "metadata": {},
   "outputs": [
    {
     "name": "stdout",
     "output_type": "stream",
     "text": [
      "Среднее количество израсходованных мегабайт: 19646.52\n",
      "Среднее количество израсходованных мегабайт по месяцам: month\n",
      "1     13153.56\n",
      "2     12858.50\n",
      "3     17551.97\n",
      "4     16843.80\n",
      "5     19977.54\n",
      "6     19170.46\n",
      "7     20742.59\n",
      "8     19506.38\n",
      "9     19390.82\n",
      "10    19984.02\n",
      "11    19954.23\n",
      "12    21971.66\n",
      "Name: mb_used, dtype: float64\n",
      "Дисперсия: 97166693.68\n",
      "Стандартное отклонение: 9857.32\n"
     ]
    }
   ],
   "source": [
    "#С помощью метода query() построю срез для столбца mb_used таблицы df_merged_ultra, чтобы отсортировать выбросы в тарифе\n",
    "#Ultra: \n",
    "df_merged_ultra_mb_used = df_merged_ultra.query('48000 > mb_used > 0')\n",
    "#display(df_merged_ultra_mb_used)\n",
    "\n",
    "#Рассчитаю среднее значение для столбца mb_used таблицы df_merged_ultra_mb_used, округлю значения с помощью метода round():\n",
    "mb_used_ultra_average = df_merged_ultra_mb_used['mb_used'].mean().round(2)\n",
    "print('Среднее количество израсходованных мегабайт:', mb_used_ultra_average)\n",
    "\n",
    "#Рассчитаю среднее значение для столбца mb_used таблицы df_merged_ultra_mb_used, сгруппировав методом groupby() столбец по\n",
    "#месяцам, округлю значения с помощью метода round():\n",
    "mb_used_ultra_average_month = df_merged_ultra_mb_used.groupby('month')['mb_used'].mean().round(2)\n",
    "print('Среднее количество израсходованных мегабайт по месяцам:', mb_used_ultra_average_month)\n",
    "\n",
    "#Рассчитаю дисперсию для столбца mb_used с помощью метода np.var():\n",
    "mb_used_ultra_variance = np.var(df_merged_ultra_mb_used['mb_used'], ddof = 1).round(2)\n",
    "print('Дисперсия:', mb_used_ultra_variance)\n",
    "\n",
    "#Рассчитаю стандартное отклонение для столбца mb_used, получив корень из дисперсии методом np.sqrt():\n",
    "mb_used_ultra_st_deviation = np.sqrt(mb_used_ultra_variance).round(2)\n",
    "print('Стандартное отклонение:', mb_used_ultra_st_deviation)"
   ]
  },
  {
   "cell_type": "code",
   "execution_count": 38,
   "metadata": {},
   "outputs": [
    {
     "data": {
      "text/plain": [
       "<matplotlib.axes._subplots.AxesSubplot at 0x7f91bb4cd550>"
      ]
     },
     "execution_count": 38,
     "metadata": {},
     "output_type": "execute_result"
    },
    {
     "data": {
      "image/png": "[encoded data removed]",
      "text/plain": [
       "<Figure size 864x360 with 1 Axes>"
      ]
     },
     "metadata": {
      "needs_background": "light"
     },
     "output_type": "display_data"
    }
   ],
   "source": [
    "#Построю график, который покажет среднее количество отправленных сообщений пользователей тарифа Smart по месяцам, предварительно\n",
    "#создав сводную таблицу:\n",
    "grouped_mb_used_u = df_merged_ultra_mb_used.pivot_table(index = 'month', values = 'mb_used')\n",
    "grouped_mb_used_u.plot(ylim = (0, 25000), xlim = (1, 12),\\\n",
    "                    title = \"Среднее количество использованных Мб по месяцам - Ultra\", figsize = (12, 5), grid = True)"
   ]
  },
  {
   "cell_type": "code",
   "execution_count": 39,
   "metadata": {},
   "outputs": [
    {
     "data": {
      "text/plain": [
       "count     2179.000000\n",
       "mean     16309.305186\n",
       "std       5420.393641\n",
       "min       2003.000000\n",
       "25%      12808.500000\n",
       "50%      16565.000000\n",
       "75%      20035.000000\n",
       "max      30427.000000\n",
       "Name: mb_used, dtype: float64"
      ]
     },
     "execution_count": 39,
     "metadata": {},
     "output_type": "execute_result"
    },
    {
     "data": {
      "image/png": "[encoded data removed]",
      "text/plain": [
       "<Figure size 504x432 with 1 Axes>"
      ]
     },
     "metadata": {
      "needs_background": "light"
     },
     "output_type": "display_data"
    }
   ],
   "source": [
    "#Построю с помощью метода plot() 2 гистограммы для столбца 'mb_used' двух таблиц - df_merged_smart и df_merged_ultra,\n",
    "#чтобы увидеть частоту использования мегабайт в обоих тарифах:\n",
    "df_merged_smart_mb_used.plot(y = 'mb_used', kind = 'hist', bins = 100, grid = True, figsize = (7,6),\\\n",
    "                             range = (0, 50000), title = \"Количество израсходованных мегабайт Smart\")\n",
    "#Методом describe() получу характерные значения столбца mb_used: \n",
    "df_merged_smart_mb_used['mb_used'].describe()"
   ]
  },
  {
   "cell_type": "code",
   "execution_count": 40,
   "metadata": {},
   "outputs": [
    {
     "data": {
      "text/plain": [
       "count      972.000000\n",
       "mean     19646.516461\n",
       "std       9857.316759\n",
       "min        366.000000\n",
       "25%      12041.250000\n",
       "50%      19406.000000\n",
       "75%      26875.500000\n",
       "max      45222.000000\n",
       "Name: mb_used, dtype: float64"
      ]
     },
     "execution_count": 40,
     "metadata": {},
     "output_type": "execute_result"
    },
    {
     "data": {
      "image/png": "[encoded data removed]",
      "text/plain": [
       "<Figure size 504x432 with 1 Axes>"
      ]
     },
     "metadata": {
      "needs_background": "light"
     },
     "output_type": "display_data"
    }
   ],
   "source": [
    "df_merged_ultra_mb_used.plot(y = 'mb_used', kind = 'hist', bins = 100, grid = True, figsize = (7,6),\\\n",
    "                             range = (0, 60000), title = \"Количество израсходованных мегабайт Ultra\")\n",
    "df_merged_ultra_mb_used['mb_used'].describe()"
   ]
  },
  {
   "cell_type": "markdown",
   "metadata": {},
   "source": [
    "После сортировки данных от выбросов в столбце mb_used среднее значение выросло с 16229 до 16309 мегабайт для тарифа Smart и с 19487 до 19647 для тарифа Smart.\n",
    "В среднем пользователь тарифа Smart использует 16309 Мб Интернета, а пользователь тарифа Ultra - 19647 Мб.\n",
    "При том что в пакет услуг Smart входит 15 Гб равное 15360 Мб, в среднем пользователь доплачивает 200 рублей за использованные вне тарифа мегабайты. А пользователь тарифа Ultra в среднем никогда не расходует все 30 Гб равные 30720 Мб, включенные в пакет услуг.\n",
    "\n",
    "Если рассматривать потребление мегабайт по месяцам, то здесь ситуация повторяется - как и с сообщениями, и с телефонными разговорами, - с января по декабрь наблюдается увеличение используемых мегабайт. В тарифе Smart c 9502 в январе к декабрю число мегабайт увеличивается до 17679. В тарифе Ultra также - c 13154 мегабайт в январе растет до 21972 мегабайт в декабре.\n",
    "\n",
    "На обоих гистограммах мы видим нормальное распределение - гистограммы не скошены в какую-либо сторону, значит правило 3-ёх сигм работает (все значения (около 99%) находятся в промежутке (μ-3σ, μ+3σ)): Smart (12.83, 32590.91), Ultra (-99171.1, 49173.24). \n"
   ]
  },
  {
   "cell_type": "markdown",
   "metadata": {},
   "source": [
    "<a name=\"10\"></a>\n",
    "### Как отличается выручка тарифа \"Smart\" от выручки тарифа \"Ultra\""
   ]
  },
  {
   "cell_type": "markdown",
   "metadata": {},
   "source": [
    "Посчитаю среднюю выручку по каждому тарифу, построю распределения, отсортирую выбросы."
   ]
  },
  {
   "cell_type": "code",
   "execution_count": 41,
   "metadata": {},
   "outputs": [
    {
     "name": "stdout",
     "output_type": "stream",
     "text": [
      "Средняя выручка по тарифу Smart:  1233.3553162853298\n",
      "Средняя выручка по тарифу Ultra: 2060.529949238579\n"
     ]
    }
   ],
   "source": [
    "#Средняя выручка по тарифу Smart:\n",
    "average_revenue_smart = df_merged_smart['month_revenue'].mean()\n",
    "print('Средняя выручка по тарифу Smart: ', average_revenue_smart)\n",
    "#Средняя выручка по тарифу Ultra:\n",
    "average_revenue_ultra = df_merged_ultra['month_revenue'].mean()\n",
    "print('Средняя выручка по тарифу Ultra:', average_revenue_ultra)"
   ]
  },
  {
   "cell_type": "code",
   "execution_count": 42,
   "metadata": {},
   "outputs": [
    {
     "data": {
      "text/plain": [
       "count    2229.000000\n",
       "mean     1233.355316\n",
       "std       787.691785\n",
       "min       550.000000\n",
       "25%       550.000000\n",
       "50%       960.000000\n",
       "75%      1668.000000\n",
       "max      6711.000000\n",
       "Name: month_revenue, dtype: float64"
      ]
     },
     "execution_count": 42,
     "metadata": {},
     "output_type": "execute_result"
    },
    {
     "data": {
      "image/png": "[encoded data removed]",
      "text/plain": [
       "<Figure size 432x288 with 1 Axes>"
      ]
     },
     "metadata": {
      "needs_background": "light"
     },
     "output_type": "display_data"
    }
   ],
   "source": [
    "#Построю диаграмму размаха для столбца month_revenue таблицы df_merged_smart, чтобы получить \"ящик с усами\" и увидеть \n",
    "#выбросы по выручке с пользователя в тарифе Smart:\n",
    "sns.boxplot(df_merged_smart['month_revenue'])\n",
    "plt.title(\"Диаграмма размаха: выручка с пользователя - Smart\")\n",
    "#Методом describe() получу характерные значения столбца month_revenue: \n",
    "df_merged_smart['month_revenue'].describe()"
   ]
  },
  {
   "cell_type": "markdown",
   "metadata": {},
   "source": [
    "На диаграмме размаха видны выбросы приблизительно выше значения 3000 рубллей. Отсортирую выбросы, чтобы получить более точное среднее  и медианное значение по выручке тарифа Smart."
   ]
  },
  {
   "cell_type": "code",
   "execution_count": 43,
   "metadata": {},
   "outputs": [
    {
     "data": {
      "text/plain": [
       "count    2156.000000\n",
       "mean     1150.880798\n",
       "std       644.195139\n",
       "min       550.000000\n",
       "25%       550.000000\n",
       "50%       935.000000\n",
       "75%      1580.500000\n",
       "max      2990.000000\n",
       "Name: month_revenue, dtype: float64"
      ]
     },
     "execution_count": 43,
     "metadata": {},
     "output_type": "execute_result"
    },
    {
     "data": {
      "image/png": "[encoded data removed]",
      "text/plain": [
       "<Figure size 504x432 with 1 Axes>"
      ]
     },
     "metadata": {
      "needs_background": "light"
     },
     "output_type": "display_data"
    }
   ],
   "source": [
    "#С помощью метода query() построю срез для столбца month_revenue таблицы df_merged_smart, чтобы отсортировать выбросы в\n",
    "#тарифе Smart: \n",
    "df_merged_smart_revenue = df_merged_smart.query('3000 > month_revenue')\n",
    "df_merged_smart_revenue['month_revenue'].plot(y = 'month_revenue', kind = 'hist', bins = 100, grid = True,\\\n",
    "                        figsize = (7,6), range = (0, 3500), title = \"Распределение выручки по тарифу Smart\")\n",
    "df_merged_smart_revenue['month_revenue'].describe()"
   ]
  },
  {
   "cell_type": "code",
   "execution_count": 44,
   "metadata": {},
   "outputs": [
    {
     "data": {
      "text/plain": [
       "count     985.000000\n",
       "mean     2060.529949\n",
       "std       356.291467\n",
       "min      1950.000000\n",
       "25%      1950.000000\n",
       "50%      1950.000000\n",
       "75%      1950.000000\n",
       "max      4743.000000\n",
       "Name: month_revenue, dtype: float64"
      ]
     },
     "execution_count": 44,
     "metadata": {},
     "output_type": "execute_result"
    },
    {
     "data": {
      "image/png": "[encoded data removed]",
      "text/plain": [
       "<Figure size 432x288 with 1 Axes>"
      ]
     },
     "metadata": {
      "needs_background": "light"
     },
     "output_type": "display_data"
    }
   ],
   "source": [
    "#Построю диаграмму размаха для столбца month_revenue таблицы df_merged_ultra, чтобы получить \"ящик с усами\" и увидеть \n",
    "#выбросы по выручке с пользователя в тарифе Ultra:\n",
    "sns.boxplot(df_merged_ultra['month_revenue'])\n",
    "plt.title(\"Диаграмма размаха: выручка с пользователя - Ultra\")\n",
    "#Методом describe() получу характерные значения столбца month_revenue: \n",
    "df_merged_ultra['month_revenue'].describe()"
   ]
  },
  {
   "cell_type": "markdown",
   "metadata": {},
   "source": [
    "В целом, можно не сортировать столбец month_revenue в таблице тарифа Ultra, первый квартиль, медианное значение и третий квартиль и так равны ежемесячной плате за тариф - 1950 рублей."
   ]
  },
  {
   "cell_type": "code",
   "execution_count": 45,
   "metadata": {},
   "outputs": [
    {
     "data": {
      "text/plain": [
       "<matplotlib.axes._subplots.AxesSubplot at 0x7f91bb6160d0>"
      ]
     },
     "execution_count": 45,
     "metadata": {},
     "output_type": "execute_result"
    },
    {
     "data": {
      "image/png": "[encoded data removed]",
      "text/plain": [
       "<Figure size 504x432 with 1 Axes>"
      ]
     },
     "metadata": {
      "needs_background": "light"
     },
     "output_type": "display_data"
    }
   ],
   "source": [
    "df_merged_ultra['month_revenue'].plot(y = 'month_revenue', kind = 'hist', bins = 100, grid = True,\\\n",
    "                                figsize = (7,6), range = (0, 4500), title = \"Распределение выручки по тарифу Ultra\")"
   ]
  },
  {
   "cell_type": "markdown",
   "metadata": {},
   "source": [
    "Медианные значения более близко описывают, сколько в среднем пользователи платят за свой тариф в месяц. Медиана выручки по тарифу Ultra равна 1950 рублей - в среднем клиент не использует дополнительные минуты, не отправляет больше сообщений, чем включено в тариф и не расходует больше мегабайт. Медиана выручки по тарифу Smart равна 935 рублей, мы можем утверждать, что в среднем пользователю не хватает включенных в пакет минут разговора, сообщений или мегабайт интернета, поэтому он доплачивает еще 935 - 550 = 385 рублей в месяц."
   ]
  },
  {
   "cell_type": "markdown",
   "metadata": {},
   "source": [
    "<a name=\"11\"></a>\n",
    "## Шаг 4. Проверка гипотезы:\n",
    "### средняя выручка пользователей тарифов «Ультра» и «Смарт» различается<a name=\"12\"></a>"
   ]
  },
  {
   "cell_type": "markdown",
   "metadata": {},
   "source": [
    "Нулевая гипотеза предполагает, что выручка тарифов равна. Альтернативная звучит так: \"Средняя выручка пользователей тарифов \"Смарт\" и \"Ультра\" различается\". \n",
    "\n",
    "Есть смысл решать вопрос о принятии или отвержении нулевой гипотезы по p-value. Это вероятность получить наблюдаемый или ещё более далёкий от предполагаемого результат при условии, что нулевая гипотеза верна. \n",
    "\n",
    "Чтобы проверить нулевую гипотезу сравним средние значения столбцов month_revenue таблиц двух тарифов - df_merged_smart и df_merged_ultra, как для двух генеральных совокупностей, применив метод scipy.stats.ttest_ind(array1, array2, equal_var)."
   ]
  },
  {
   "cell_type": "code",
   "execution_count": 46,
   "metadata": {},
   "outputs": [
    {
     "name": "stdout",
     "output_type": "stream",
     "text": [
      "Дисперсия средней выручки по тарифу Smart: 620458.35\n",
      "Дисперсия средней выручки по тарифу Ultra: 126943.61\n",
      "p-значение: 8.911718216988335e-296\n",
      "Отвергаем нулевую гипотезу\n"
     ]
    }
   ],
   "source": [
    "# Задам критический уровень статистической значимости равный 0.01 - общепринятое пороговое значение.\n",
    "#Если p-value окажется меньше него - отвергнем гипотезу:\n",
    "alpha= 0.01\n",
    "\n",
    "#Рассчитаю дисперсию для столбца month_revenue таблицы df_merged_smart с помощью метода np.var():\n",
    "revenue_smart_variance = np.var(df_merged_smart['month_revenue'], ddof = 1).round(2)\n",
    "#Рассчитаю дисперсию для столбца month_revenue таблицы df_merged_ultra с помощью метода np.var():\n",
    "revenue_ultra_variance = np.var(df_merged_ultra['month_revenue'], ddof = 1).round(2)\n",
    "\n",
    "print('Дисперсия средней выручки по тарифу Smart:', revenue_smart_variance)\n",
    "print('Дисперсия средней выручки по тарифу Ultra:', revenue_ultra_variance)\n",
    "\n",
    "#Дисперсии не равны, поэтому equal_var придадим значение False:\n",
    "results = st.ttest_ind(df_merged_smart['month_revenue'], df_merged_ultra['month_revenue'], equal_var = False)\n",
    "print('p-значение:', results.pvalue)\n",
    "\n",
    "if results.pvalue < alpha:\n",
    "    print(\"Отвергаем нулевую гипотезу\")\n",
    "else:\n",
    "    print(\"Не получилось отвергнуть нулевую гипотезу\") "
   ]
  },
  {
   "cell_type": "markdown",
   "metadata": {},
   "source": [
    "Отвергаем нулевую гипотезу, так как p-значение получилось меньше критического уровня статистической значимости. Вывод: средняя выручка пользователей тарифов \"Смарт\" и \"Ультра\" различается."
   ]
  },
  {
   "cell_type": "markdown",
   "metadata": {},
   "source": [
    "<a name=\"13\"></a>\n",
    "## Проверка гипотезы:\n",
    "### средняя выручка пользователей из Москвы отличается от выручки пользователей из других регионов"
   ]
  },
  {
   "cell_type": "markdown",
   "metadata": {},
   "source": [
    "Нулевая гипотеза: \"Средняя выручка пользователей из Москвы равна выручке пользователей из других регионов\". Альтернативная гипотеза звучит следующим образом: \"Средняя выручка пользователей из Москвы отличается от выручки пользователей из других регионов\". Чтобы проверить нулевую гипотезу для начала создадим  2 среза по значениям city == \"Москва\" и city != \"Москва\", чтобы можно было проанализировать среднюю выручку для Москвы и регионов отдельно. Затем сравним средние значения столбцов month_revenue таблиц двух тарифов - df_moscow и df_regions, как для двух генеральных совокупностей, применив метод scipy.stats.ttest_ind(array1, array2, equal_var)."
   ]
  },
  {
   "cell_type": "code",
   "execution_count": 47,
   "metadata": {},
   "outputs": [
    {
     "name": "stdout",
     "output_type": "stream",
     "text": [
      "p-значение: 0.45489046098064356\n",
      "Не получилось отвергнуть нулевую гипотезу\n"
     ]
    }
   ],
   "source": [
    "#С помощью метода query() создам 2 среза по столбцу \"city\" таблицы df_merged по условиям \"city == \"Москва\" и \n",
    "#\"city != \"Москва\":\n",
    "df_moscow = df_merged.query('city == \"Москва\"')\n",
    "df_regions = df_merged.query('city != \"Москва\"')\n",
    "#Задам критический уровень статистической значимости равный 0.01 - если p-value окажется меньше него - отвергнем гипотезу:\n",
    "alpha= 0.01\n",
    "#Дисперсии не равны, поэтому equal_var придадим значение False:\n",
    "results = st.ttest_ind(df_moscow['month_revenue'], df_regions['month_revenue'], equal_var= False)\n",
    "print('p-значение:', results.pvalue)\n",
    "\n",
    "if (results.pvalue < alpha):\n",
    "    print(\"Отвергаем нулевую гипотезу\")\n",
    "else:\n",
    "    print(\"Не получилось отвергнуть нулевую гипотезу\") "
   ]
  },
  {
   "cell_type": "markdown",
   "metadata": {},
   "source": [
    "Не получилось отвергнуть нулевую гипотезу, так как p-значение оказалось больше критического уровня статистической значимости.\n",
    "Полученное значение p-value говорит о том, что хотя средняя выручка пользователей из Москвы и других регионов и неодинакова, с вероятностью приблизительно в 45% такое или большее различие можно получить случайно. А это слишком большая вероятность, чтобы делать вывод о значимом различии между средней выручкой.\n"
   ]
  },
  {
   "cell_type": "markdown",
   "metadata": {},
   "source": [
    "<a name=\"14\"></a>\n",
    "## Шаг 5. Общий вывод"
   ]
  },
  {
   "cell_type": "markdown",
   "metadata": {},
   "source": [
    "Я, как аналитик компании \"Мегалайн\", провела предварительный анализ тарифов \"Смарт\" и \"Ультра\" на небольшой выборке клиентов и сделала следующие выводы:\n",
    "\n",
    "1. В среднем клиент тарифа \"Смарт\" тратит примерно 415 минут на телефонные разговоры, в сравнение, пользователь тарифа \"Ультра\" - 541 минуту. К тому же средняя продолжительность разговоров в месяц у пользователей тарифа \"Смарт\" постепенно увеличивается с января до декабря - от 210 до 464 минут соответственно, прибавляя до 30% в росте каждый месяц. В свою очередь пользователи тарифа \"Ультра\" разговаривают примерно 428 минут в декабре и 601 минуту в декабре, в феврале происходит спад средней продолжительности на 28%, но в марте этот показатель начинает расти.\n",
    "\n",
    "2. Пользователь тарифа \"Смарт\" в среднем не тратит все 500 минут, включенных в ежемесячный пакет услуг, но третий квартиль равен 543 (то есть 75% пользователей тратят в среднем до 543 минуты на разговоры), это значит, что около 30% пользователей расходуют дополнительные минуты, не включенные в тариф(500 минут). За 43 минут клиенты доплачивают 3 руб.* 43 мин.= 129 руб. Пользователи тарифа \"Ультра\" вообще не трятят все 3000 минут включенные в тариф, максимум - 1322 минуты, что меньше половины от предложенного оператором времени. Следовательно и дополнительные минуты пользователями тарифа \"Ультра\" невостребованы.\n",
    "\n",
    "3. В среднем пользователь тарифа \"Смарт\" отправляет 38 сообщений в месяц, а пользователь тарифа \"Ультра\" в среднем - 59 сообщений в месяц. Но ни среднестатистический пользователь тарифа \"Смарт\", ни \"Ультра\" не отправляет больше сообщений, чем включены в их пакеты, при том пользователи тарифа \"Ультра\" не отправляют даже 6% сообщений от включенных в их пакет услуг. Но примерно 25% клиентов тарифа \"Смарт\" доплачивают за 1 и более дополнительное сообщение, стомость которого равна 3 рубля. \n",
    "\n",
    "4. Количество сообщений увеличивается каждый месяц на 4-30%, с января по декабрь наблюдается рост в 2 раза у пользователей тарифа \"Смарт\" - c 20 до 41 сообщения соответственно. Пользователи тарифа \"Ультра\" в декабре отправляют в среднем 43 сообщения, в марте количество сообщений, как и количество звонков падает, а затем опять растет, к декабрю среднее количество сообщений равно 70 - рост на 39%, считая с января.\n",
    "\n",
    "5. В среднем пользователь тарифа \"Смарт\" использует 16309 Мб Интернета, а пользователь тарифа Ultra - 19647 Мб. При том что в пакет услуг \"Смарт\" входит 15 Гб равное 15360 Мб, в среднем пользователь доплачивает 200 рублей за использованные вне тарифа мегабайты. А среднестатистический пользователь тарифа \"Ультра\" никогда не расходует все 30 Гб равные 30720 Мб, включенные в пакет услуг.\n",
    "\n",
    "6. Если рассматривать потребление мегабайт по месяцам, то здесь ситуация повторяется - как и с сообщениями, и с телефонными разговорами, - с января по декабрь наблюдается увеличение используемых мегабайт. В тарифе \"Смарт\" c 9502 в январе к декабрю число мегабайт увеличивается до 17679 Мб. В тарифе \"Ультра\" также - c 13154 Мб в январе растет до 21972 Мб в декабре.\n",
    "\n",
    "7. Средняя выручка пользователей тарифов \"Смарт\" и \"Ультра\" различается. Все-таки пользователи тарифа \"Смарт\" приносят меньшую выручку компании, чем пользователи тарифа \"Ультра\". Даже учитывая расход полного пакета услуг (стоимостью 550 рублей) клиентом тарифа \"Смарт\" и доплате за дополнительные минуты, сообщения и мегабайты, ежемесячная плата за тариф клиента \"Ультра\"(равная 1950 рублей) все-равно оказывается выше всех расходов пользователя \"Смарт\". Средняя выручка с клиентов тарифов \"Смарт\" и \"Ультра\" равна приблизительно 935 рублей и 1950 рублей в месяц соответственно.\n",
    "\n",
    "8. Средняя выручка пользователей из Москвы не отличается от выручки пользователей из других регионов, по крайней мере обратное не удалось доказать.\n",
    "\n",
    "Рекомендую коммерческому департаменту компании \"Мегалайн\" учесть выводы моего исследования и выделить средства на рекламную кампанию тарифа \"Ультра\", так как именно этот тариф приносит большую выручку.\n",
    "\n"
   ]
  },
  {
   "cell_type": "code",
   "execution_count": 48,
   "metadata": {},
   "outputs": [
    {
     "ename": "SyntaxError",
     "evalue": "invalid syntax (<ipython-input-48-38c7845b0670>, line 1)",
     "output_type": "error",
     "traceback": [
      "\u001b[0;36m  File \u001b[0;32m\"<ipython-input-48-38c7845b0670>\"\u001b[0;36m, line \u001b[0;32m1\u001b[0m\n\u001b[0;31m    git remote add origin https://github.com/SvetaDzhi/projects.git\u001b[0m\n\u001b[0m             ^\u001b[0m\n\u001b[0;31mSyntaxError\u001b[0m\u001b[0;31m:\u001b[0m invalid syntax\n"
     ]
    }
   ],
   "source": []
  }
 ],
 "metadata": {
  "kernelspec": {
   "display_name": "Python 3",
   "language": "python",
   "name": "python3"
  },
  "language_info": {
   "codemirror_mode": {
    "name": "ipython",
    "version": 3
   },
   "file_extension": ".py",
   "mimetype": "text/x-python",
   "name": "python",
   "nbconvert_exporter": "python",
   "pygments_lexer": "ipython3",
   "version": "3.7.8"
  },
  "toc": {
   "base_numbering": 1,
   "nav_menu": {},
   "number_sections": false,
   "sideBar": true,
   "skip_h1_title": false,
   "title_cell": "Table of Contents",
   "title_sidebar": "Contents",
   "toc_cell": false,
   "toc_position": {},
   "toc_section_display": true,
   "toc_window_display": true
  }
 },
 "nbformat": 4,
 "nbformat_minor": 2
}
